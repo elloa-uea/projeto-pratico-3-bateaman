{
 "cells": [
  {
   "cell_type": "markdown",
   "metadata": {},
   "source": [
    "# Redes Neurais Artificiais 2020.1 -- Projeto Prático 3.4\n",
    "\n",
    "**Disciplina**: Redes Neurais Artificiais 2020.1  \n",
    "**Professora**: Elloá B. Guedes (ebgcosta@uea.edu.br)  \n",
    "**Github**: http://github.com/elloa  \n",
    "        \n",
    "\n",
    "Levando em conta a base de dados **_Forest Cover Type_**, esta terceira parte do Projeto Prático 3 diz respeito à proposição e avaliação de múltiplas redes neurais artificiais do tipo feedforward multilayer perceptron para o problema da classificação multi-classe da cobertura florestal em uma área do Roosevelt National Forest.\n",
    "\n",
    "## Busca em Grade\n",
    "\n",
    "Uma maneira padrão de escolher os parâmetros de um modelo de Machine Learning é por meio de uma busca em grade via força bruta. O algoritmo da busca em grade é dado como segue:\n",
    "\n",
    "1. Escolha a métrica de desempenho que você deseja maximizar  \n",
    "2. Escolha o algoritmo de Machine Learning (exemplo: redes neurais artificiais). Em seguida, defina os parâmetros ou hiperparâmetros deste tipo de modelo sobre os quais você dseja otimizar (número de épocas, taxa de aprendizado, etc.) e construa um array de valores a serem testados para cada parâmetro ou hiperparâmetro.  \n",
    "3. Defina a grade de busca, a qual é dada como o produto cartesiano de cada parâmetro a ser testado. Por exemplo, para os arrays [50, 100, 1000] e [10, 15], tem-se que a grade é [(50,10), (50,15), (100,10), (100,15), (1000,10), (1000,15)].\n",
    "4. Para cada combinação de parâmetros a serem otimizados, utilize o conjunto de treinamento para realizar uma validação cruzada (holdout ou k-fold) e calcule a métrica de avaliação no conjunto de teste (ou conjuntos de teste)\n",
    "5. Escolha a combinação de parâmetros que maximizam a métrica de avaliação. Este é o modelo otimizado.\n",
    "\n",
    "Por que esta abordagem funciona? Porque a busca em grade efetua uma pesquisa extensiva sobre as possíveis combinações de valores para cada um dos parâmetros a serem ajustados. Para cada combinação, ela estima a performance do modelo em dados novos. Por fim, o modelo com melhor métrica de desempenho é escolhido. Tem-se então que este modelo é o que melhor pode vir a generalizar mediante dados nunca antes vistos.\n",
    "\n",
    "## Efetuando a Busca em Grade sobre Hiperparâmetros das Top-6 RNAs\n",
    "\n",
    "Considerando a etapa anterior do projeto prático, foram identificadas pelo menos 6 melhores Redes Neurais para o problema da classificação multi-classe da cobertura florestal no conjunto de dados selecionado. Algumas destas redes possuem atributos categóricos como variáveis preditoras, enquanto outras possuem apenas os atributos numéricos como preditores.\n",
    "\n",
    "A primeira etapa desta segunda parte do projeto consiste em trazer para este notebook estas seis arquiteturas, ressaltando:\n",
    "\n",
    "1. Número de neurônios ocultos por camada  \n",
    "2. Função de Ativação  \n",
    "3. Utilização ou não de atributos categóricos   \n",
    "4. Desempenho médio +- desvio padrão nos testes anteriores  \n",
    "5. Número de repetições que a equipe conseguiu realizar para verificar os resultados  \n",
    "\n",
    "Elabore uma busca em grade sobre estas arquiteturas que contemple variações nos hiperparâmetros a seguir, conforme documentação de [MLPClassifier](https://scikit-learn.org/stable/modules/generated/sklearn.neural_network.MLPClassifier.html)\n",
    "\n",
    "A. Solver  (Não usar o LBFGS, pois é mais adequado para datasets pequenos)  \n",
    "B. Batch Size  \n",
    "C. Learning Rate Init  \n",
    "D. Paciência (n_iter_no_change)  \n",
    "E. Épocas  \n",
    "\n",
    "Nesta busca em grande, contemple a utilização do objeto [GridSearchCV](https://scikit-learn.org/stable/modules/generated/sklearn.model_selection.GridSearchCV.html)"
   ]
  },
  {
   "cell_type": "markdown",
   "metadata": {},
   "source": [
    "## Validação Cruzada k-fold\n",
    "\n",
    "Na elaboração da busca em grid, vamos avaliar os modelos propostos segundo uma estratégia de validação cruzada ainda não explorada até o momento: a validação cruzada k-fold. Segundo a mesma, o conjunto de dados é particionado em k partes: a cada iteração, separa-se uma das partes para teste e o modelo é treinado com as k-1 partes remanescentes. Valores sugestivos de k na literatura são k = 3, 5 ou 10, pois o custo computacional desta validação dos modelos é alto. A métrica de desempenho é resultante da média dos desempenhos nas k iterações. A figura a seguir ilustra a ideia desta avaliação\n",
    "\n",
    "<img src = \"https://ethen8181.github.io/machine-learning/model_selection/img/kfolds.png\" width=600></img>\n",
    "\n",
    "Considerando a métrica de desempenho F1-Score, considere a validação cruzada 5-fold para aferir os resultados da busca em grande anterior."
   ]
  },
  {
   "cell_type": "code",
   "execution_count": 1,
   "metadata": {},
   "outputs": [],
   "source": [
    "# Começando com os imports\n",
    "import numpy as np\n",
    "import pandas as pd\n",
    "from matplotlib import pyplot as plt\n",
    "import sklearn\n",
    "from sklearn.neural_network import MLPClassifier\n",
    "from sklearn.metrics import confusion_matrix\n",
    "from sklearn.model_selection import GridSearchCV\n",
    "from sklearn.pipeline import Pipeline\n",
    "from sklearn.preprocessing import StandardScaler\n",
    "import joblib\n",
    "import seaborn as sns\n",
    "import pickle\n",
    "import warnings\n",
    "\n",
    "# Isso é para ignorar os warnings dizendo que a rede atingiu o numero maximo de iterações e não convergiu\n",
    "warnings.filterwarnings('ignore') "
   ]
  },
  {
   "cell_type": "code",
   "execution_count": 2,
   "metadata": {},
   "outputs": [],
   "source": [
    "# Carregando a base...\n",
    "df = pd.read_csv('../data/covtype.csv')\n",
    "df.head()\n",
    "\n",
    "# Separando os atributos preditores do atributo alvo\n",
    "\n",
    "#sem categoricos\n",
    "df_nocat = df.drop([('Wilderness_Area' + str(i)) for i in range(1, 5)] + [('Soil_Type'+ str(i)) for i in range(1, 41)], axis = 1)\n",
    "x_nocat = df_nocat.drop(['Cover_Type'],axis = 1)\n",
    "y_nocat = df_nocat['Cover_Type']\n",
    "#com categoricos\n",
    "x = df.drop(['Cover_Type'],axis = 1)\n",
    "y = df['Cover_Type']"
   ]
  },
  {
   "cell_type": "code",
   "execution_count": 3,
   "metadata": {},
   "outputs": [],
   "source": [
    "# Top 6 arquiteturas (3 próprias seguidas de 3 com regra da pirâmide)\n",
    "\n",
    "#   (hidden_layers, activation, solver, epochs, uses_cat, repetitions)\n",
    "top = [\n",
    "    (10, 'tanh', 'adam', 150, False, 10),\n",
    "    (10, 'tanh', 'adam', 200, False, 10),\n",
    "    (10, 'tanh', 'adam', 200, True, 5)\n",
    "]\n",
    "top_pyramid = [\n",
    "    ((13, 13), 'tanh', 'adam', 200, True, 5),\n",
    "    ((16, 10), 'tanh', 'adam', 200, True, 5),\n",
    "    ((26), 'tanh', 'adam', 200, True, 5)\n",
    "]"
   ]
  },
  {
   "cell_type": "code",
   "execution_count": 4,
   "metadata": {},
   "outputs": [],
   "source": [
    "# Função de apoio para interpretação dos dados salvos de métricas\n",
    "def load_top_metrics(path, n, array_acc, array_fsc, load_as_results = True):\n",
    "    f = open(path, \"rb\")\n",
    "    temp = pickle.load(f)\n",
    "    f.close()\n",
    "\n",
    "    if load_as_results:\n",
    "        for a,r,p,f in temp[:n]:\n",
    "            array_acc.append(np.mean(a))\n",
    "            array_fsc.append(np.mean(f))\n",
    "        return\n",
    "    \n",
    "    top_acc = np.argpartition(np.array(list(temp.values()))[:, 0], -n)[-n:]\n",
    "    top_fscr = np.argpartition(np.array(list(temp.values()))[:, 1], -n)[-n:]\n",
    "\n",
    "    top = np.array(list(temp.keys()))[top_fscr]\n",
    "\n",
    "    for c in top:\n",
    "        if not isinstance(c, int):\n",
    "            c = tuple(c)\n",
    "        array_acc.append(temp[c][0])\n",
    "        array_fsc.append(temp[c][1])\n",
    "\n",
    "    return top"
   ]
  },
  {
   "cell_type": "code",
   "execution_count": 5,
   "metadata": {
    "tags": []
   },
   "outputs": [],
   "source": [
    "# Carrega as métricas do top 6\n",
    "metrics_acc = []\n",
    "metrics_fsc = []\n",
    "pyramid_acc = []\n",
    "pyramid_fsc = []\n",
    "\n",
    "load_top_metrics(\"../metrics_3.3/metrics_dict.pkl\", 2, metrics_acc, metrics_fsc, load_as_results = False)\n",
    "load_top_metrics(\"../metrics_3.3/metrics_catg_dict.pkl\", 1, metrics_acc, metrics_fsc)\n",
    "load_top_metrics(\"../metrics_3.3/piramide_metrics_catg_dict.pkl\", 3, pyramid_acc, pyramid_fsc)"
   ]
  },
  {
   "cell_type": "code",
   "execution_count": 6,
   "metadata": {},
   "outputs": [
    {
     "name": "stdout",
     "output_type": "stream",
     "text": [
      "Top 3 arquiteturas próprias\n",
      "------------------------------------------------------------------------------------------------------\n",
      "(hidden_layers, activation, solver, epochs, usa categóricos, repetitions) -> F-Score, Acurácia (média)\n",
      "------------------------------------------------------------------------------------------------------\n",
      "(10, 'tanh', 'adam', 150, False, 10) -> 0.51 ; 0.72\n",
      "(10, 'tanh', 'adam', 200, False, 10) -> 0.53 ; 0.72\n",
      "(10, 'tanh', 'adam', 200, True, 5) -> 0.59 ; 0.77\n",
      "\n",
      "\n",
      "Top 3 arquiteturas com regra da pirâmide\n",
      "------------------------------------------------------------------------------------------------------\n",
      "(hidden_layers, activation, solver, epochs, usa categóricos, repetitions) -> F-Score, Acurácia (média)\n",
      "------------------------------------------------------------------------------------------------------\n",
      "((13, 13), 'tanh', 'adam', 200, True, 5) -> 0.68 ; 0.80\n",
      "((16, 10), 'tanh', 'adam', 200, True, 5) -> 0.68 ; 0.81\n",
      "(26, 'tanh', 'adam', 200, True, 5) -> 0.71 ; 0.82\n"
     ]
    }
   ],
   "source": [
    "print(\"Top 3 arquiteturas próprias\")\n",
    "print(\"------------------------------------------------------------------------------------------------------\")\n",
    "print(\"(hidden_layers, activation, solver, epochs, usa categóricos, repetitions) -> F-Score, Acurácia (média)\")\n",
    "print(\"------------------------------------------------------------------------------------------------------\")\n",
    "\n",
    "for c,f,a in zip(top, metrics_fsc, metrics_acc):\n",
    "    print(\"{} -> {:.2f} ; {:.2f}\".format(c, f, a))\n",
    "\n",
    "print(\"\\n\\nTop 3 arquiteturas com regra da pirâmide\")\n",
    "print(\"------------------------------------------------------------------------------------------------------\")\n",
    "print(\"(hidden_layers, activation, solver, epochs, usa categóricos, repetitions) -> F-Score, Acurácia (média)\")\n",
    "print(\"------------------------------------------------------------------------------------------------------\")\n",
    "\n",
    "for c,f,a in zip(top_pyramid, pyramid_fsc, pyramid_acc):\n",
    "    print(\"{} -> {:.2f} ; {:.2f}\".format(c, f, a))"
   ]
  },
  {
   "cell_type": "code",
   "execution_count": 7,
   "metadata": {},
   "outputs": [],
   "source": [
    "# Define os parâmetros do Grid Search\n",
    "\n",
    "searchers = []\n",
    "for layers, activ, solver, epochs, cat, reps in top[:] + top_pyramid:\n",
    "    # Necessário para executar a padronização a cada parte do treinamento\n",
    "    pipeline = Pipeline([\n",
    "        ('scale', StandardScaler()),\n",
    "        ('clf', MLPClassifier(hidden_layer_sizes = layers, activation = activ))\n",
    "    ])\n",
    "    parameters = {\n",
    "        'clf__solver': ('adam', 'sgd'),\n",
    "        'clf__batch_size': [64, 256],\n",
    "        'clf__learning_rate_init': [0.001, 0.01],\n",
    "        'clf__n_iter_no_change': [10, 50], # paciência\n",
    "        'clf__max_iter': [100, 250] # épocas\n",
    "    }\n",
    "    searchers.append(GridSearchCV(pipeline, parameters, scoring='accuracy', n_jobs=6, verbose = 4)) # validação 5-Fold é padrão"
   ]
  },
  {
   "cell_type": "markdown",
   "metadata": {},
   "source": [
    "## Grid Searches"
   ]
  },
  {
   "cell_type": "code",
   "execution_count": 8,
   "metadata": {},
   "outputs": [
    {
     "name": "stdout",
     "output_type": "stream",
     "text": [
      "Fitting 5 folds for each of 32 candidates, totalling 160 fits\n"
     ]
    },
    {
     "name": "stderr",
     "output_type": "stream",
     "text": [
      "[Parallel(n_jobs=6)]: Using backend LokyBackend with 6 concurrent workers.\n",
      "[Parallel(n_jobs=6)]: Done  13 tasks      | elapsed:  8.8min\n",
      "[Parallel(n_jobs=6)]: Done  86 tasks      | elapsed: 50.4min\n",
      "[Parallel(n_jobs=6)]: Done 160 out of 160 | elapsed: 72.1min finished\n"
     ]
    },
    {
     "data": {
      "text/plain": [
       "GridSearchCV(estimator=Pipeline(steps=[('scale', StandardScaler()),\n",
       "                                       ('clf',\n",
       "                                        MLPClassifier(activation='tanh',\n",
       "                                                      hidden_layer_sizes=10))]),\n",
       "             n_jobs=6,\n",
       "             param_grid={'clf__batch_size': [64, 256],\n",
       "                         'clf__learning_rate_init': [0.001, 0.01],\n",
       "                         'clf__max_iter': [100, 250],\n",
       "                         'clf__n_iter_no_change': [10, 50],\n",
       "                         'clf__solver': ('adam', 'sgd')},\n",
       "             scoring='accuracy', verbose=4)"
      ]
     },
     "execution_count": 8,
     "metadata": {},
     "output_type": "execute_result"
    }
   ],
   "source": [
    "#no categorical attributes\n",
    "index = 0\n",
    "searchers[index].fit(x_nocat, y_nocat)"
   ]
  },
  {
   "cell_type": "code",
   "execution_count": 9,
   "metadata": {},
   "outputs": [
    {
     "data": {
      "text/plain": [
       "(Pipeline(steps=[('scale', StandardScaler()),\n",
       "                 ('clf',\n",
       "                  MLPClassifier(activation='tanh', batch_size=256,\n",
       "                                hidden_layer_sizes=10, learning_rate_init=0.01,\n",
       "                                max_iter=100, n_iter_no_change=50))]),\n",
       " 0.606911751108032)"
      ]
     },
     "execution_count": 9,
     "metadata": {},
     "output_type": "execute_result"
    }
   ],
   "source": [
    "searchers[index].best_estimator_, searchers[index].best_score_"
   ]
  },
  {
   "cell_type": "code",
   "execution_count": 10,
   "metadata": {},
   "outputs": [
    {
     "data": {
      "text/plain": [
       "['gridsearch_0.pkl']"
      ]
     },
     "execution_count": 10,
     "metadata": {},
     "output_type": "execute_result"
    }
   ],
   "source": [
    "joblib.dump(searchers[index], 'gridsearch_{}.pkl'.format(index))"
   ]
  },
  {
   "cell_type": "raw",
   "metadata": {},
   "source": [
    "tmp = joblib.load('gridsearch_0.pkl')"
   ]
  },
  {
   "cell_type": "code",
   "execution_count": 11,
   "metadata": {},
   "outputs": [
    {
     "name": "stdout",
     "output_type": "stream",
     "text": [
      "Fitting 5 folds for each of 32 candidates, totalling 160 fits\n"
     ]
    },
    {
     "name": "stderr",
     "output_type": "stream",
     "text": [
      "[Parallel(n_jobs=6)]: Using backend LokyBackend with 6 concurrent workers.\n",
      "[Parallel(n_jobs=6)]: Done  13 tasks      | elapsed:  8.9min\n",
      "[Parallel(n_jobs=6)]: Done  86 tasks      | elapsed: 45.4min\n",
      "[Parallel(n_jobs=6)]: Done 160 out of 160 | elapsed: 67.0min finished\n"
     ]
    },
    {
     "data": {
      "text/plain": [
       "GridSearchCV(estimator=Pipeline(steps=[('scale', StandardScaler()),\n",
       "                                       ('clf',\n",
       "                                        MLPClassifier(activation='tanh',\n",
       "                                                      hidden_layer_sizes=10))]),\n",
       "             n_jobs=6,\n",
       "             param_grid={'clf__batch_size': [64, 256],\n",
       "                         'clf__learning_rate_init': [0.001, 0.01],\n",
       "                         'clf__max_iter': [100, 250],\n",
       "                         'clf__n_iter_no_change': [10, 50],\n",
       "                         'clf__solver': ('adam', 'sgd')},\n",
       "             scoring='accuracy', verbose=4)"
      ]
     },
     "execution_count": 11,
     "metadata": {},
     "output_type": "execute_result"
    }
   ],
   "source": [
    "#no categorical attributes\n",
    "index = 1\n",
    "searchers[index].fit(x_nocat, y_nocat)"
   ]
  },
  {
   "cell_type": "code",
   "execution_count": 12,
   "metadata": {},
   "outputs": [
    {
     "data": {
      "text/plain": [
       "(Pipeline(steps=[('scale', StandardScaler()),\n",
       "                 ('clf',\n",
       "                  MLPClassifier(activation='tanh', batch_size=64,\n",
       "                                hidden_layer_sizes=10, max_iter=100,\n",
       "                                n_iter_no_change=50, solver='sgd'))]),\n",
       " 0.6068704617847205)"
      ]
     },
     "execution_count": 12,
     "metadata": {},
     "output_type": "execute_result"
    }
   ],
   "source": [
    "searchers[index].best_estimator_, searchers[index].best_score_"
   ]
  },
  {
   "cell_type": "code",
   "execution_count": 13,
   "metadata": {},
   "outputs": [
    {
     "data": {
      "text/plain": [
       "['gridsearch_1.pkl']"
      ]
     },
     "execution_count": 13,
     "metadata": {},
     "output_type": "execute_result"
    }
   ],
   "source": [
    "joblib.dump(searchers[index], 'gridsearch_{}.pkl'.format(index))"
   ]
  },
  {
   "cell_type": "code",
   "execution_count": 14,
   "metadata": {},
   "outputs": [
    {
     "name": "stdout",
     "output_type": "stream",
     "text": [
      "Fitting 5 folds for each of 32 candidates, totalling 160 fits\n"
     ]
    },
    {
     "name": "stderr",
     "output_type": "stream",
     "text": [
      "[Parallel(n_jobs=6)]: Using backend LokyBackend with 6 concurrent workers.\n",
      "[Parallel(n_jobs=6)]: Done  13 tasks      | elapsed: 10.2min\n",
      "[Parallel(n_jobs=6)]: Done  86 tasks      | elapsed: 66.0min\n",
      "[Parallel(n_jobs=6)]: Done 160 out of 160 | elapsed: 121.2min finished\n"
     ]
    },
    {
     "data": {
      "text/plain": [
       "GridSearchCV(estimator=Pipeline(steps=[('scale', StandardScaler()),\n",
       "                                       ('clf',\n",
       "                                        MLPClassifier(activation='tanh',\n",
       "                                                      hidden_layer_sizes=10))]),\n",
       "             n_jobs=6,\n",
       "             param_grid={'clf__batch_size': [64, 256],\n",
       "                         'clf__learning_rate_init': [0.001, 0.01],\n",
       "                         'clf__max_iter': [100, 250],\n",
       "                         'clf__n_iter_no_change': [10, 50],\n",
       "                         'clf__solver': ('adam', 'sgd')},\n",
       "             scoring='accuracy', verbose=4)"
      ]
     },
     "execution_count": 14,
     "metadata": {},
     "output_type": "execute_result"
    }
   ],
   "source": [
    "index = 2\n",
    "searchers[index].fit(x, y)"
   ]
  },
  {
   "cell_type": "code",
   "execution_count": 15,
   "metadata": {},
   "outputs": [
    {
     "data": {
      "text/plain": [
       "(Pipeline(steps=[('scale', StandardScaler()),\n",
       "                 ('clf',\n",
       "                  MLPClassifier(activation='tanh', batch_size=256,\n",
       "                                hidden_layer_sizes=10, max_iter=100,\n",
       "                                solver='sgd'))]),\n",
       " 0.5644546789057998)"
      ]
     },
     "execution_count": 15,
     "metadata": {},
     "output_type": "execute_result"
    }
   ],
   "source": [
    "searchers[index].best_estimator_, searchers[index].best_score_"
   ]
  },
  {
   "cell_type": "code",
   "execution_count": 16,
   "metadata": {},
   "outputs": [
    {
     "data": {
      "text/plain": [
       "['gridsearch_2.pkl']"
      ]
     },
     "execution_count": 16,
     "metadata": {},
     "output_type": "execute_result"
    }
   ],
   "source": [
    "joblib.dump(searchers[index], 'gridsearch_{}.pkl'.format(index))"
   ]
  },
  {
   "cell_type": "code",
   "execution_count": 17,
   "metadata": {},
   "outputs": [
    {
     "name": "stdout",
     "output_type": "stream",
     "text": [
      "Fitting 5 folds for each of 32 candidates, totalling 160 fits\n"
     ]
    },
    {
     "name": "stderr",
     "output_type": "stream",
     "text": [
      "[Parallel(n_jobs=6)]: Using backend LokyBackend with 6 concurrent workers.\n",
      "[Parallel(n_jobs=6)]: Done  13 tasks      | elapsed: 21.7min\n",
      "[Parallel(n_jobs=6)]: Done  86 tasks      | elapsed: 473.0min\n",
      "[Parallel(n_jobs=6)]: Done 160 out of 160 | elapsed: 530.6min finished\n"
     ]
    },
    {
     "data": {
      "text/plain": [
       "GridSearchCV(estimator=Pipeline(steps=[('scale', StandardScaler()),\n",
       "                                       ('clf',\n",
       "                                        MLPClassifier(activation='tanh',\n",
       "                                                      hidden_layer_sizes=(13,\n",
       "                                                                          13)))]),\n",
       "             n_jobs=6,\n",
       "             param_grid={'clf__batch_size': [64, 256],\n",
       "                         'clf__learning_rate_init': [0.001, 0.01],\n",
       "                         'clf__max_iter': [100, 250],\n",
       "                         'clf__n_iter_no_change': [10, 50],\n",
       "                         'clf__solver': ('adam', 'sgd')},\n",
       "             scoring='accuracy', verbose=4)"
      ]
     },
     "execution_count": 17,
     "metadata": {},
     "output_type": "execute_result"
    }
   ],
   "source": [
    "index = 3\n",
    "searchers[index].fit(x, y)"
   ]
  },
  {
   "cell_type": "code",
   "execution_count": 18,
   "metadata": {},
   "outputs": [
    {
     "data": {
      "text/plain": [
       "(Pipeline(steps=[('scale', StandardScaler()),\n",
       "                 ('clf',\n",
       "                  MLPClassifier(activation='tanh', batch_size=64,\n",
       "                                hidden_layer_sizes=(13, 13),\n",
       "                                learning_rate_init=0.01, max_iter=100))]),\n",
       " 0.5324811931792978)"
      ]
     },
     "execution_count": 18,
     "metadata": {},
     "output_type": "execute_result"
    }
   ],
   "source": [
    "searchers[index].best_estimator_, searchers[index].best_score_"
   ]
  },
  {
   "cell_type": "code",
   "execution_count": 19,
   "metadata": {},
   "outputs": [
    {
     "data": {
      "text/plain": [
       "['gridsearch_3.pkl']"
      ]
     },
     "execution_count": 19,
     "metadata": {},
     "output_type": "execute_result"
    }
   ],
   "source": [
    "joblib.dump(searchers[index], 'gridsearch_{}.pkl'.format(index))"
   ]
  },
  {
   "cell_type": "code",
   "execution_count": 20,
   "metadata": {},
   "outputs": [
    {
     "name": "stdout",
     "output_type": "stream",
     "text": [
      "Fitting 5 folds for each of 32 candidates, totalling 160 fits\n"
     ]
    },
    {
     "name": "stderr",
     "output_type": "stream",
     "text": [
      "[Parallel(n_jobs=6)]: Using backend LokyBackend with 6 concurrent workers.\n",
      "[Parallel(n_jobs=6)]: Done  13 tasks      | elapsed: 18.8min\n",
      "[Parallel(n_jobs=6)]: Done  86 tasks      | elapsed: 103.1min\n",
      "[Parallel(n_jobs=6)]: Done 160 out of 160 | elapsed: 160.8min finished\n"
     ]
    },
    {
     "data": {
      "text/plain": [
       "GridSearchCV(estimator=Pipeline(steps=[('scale', StandardScaler()),\n",
       "                                       ('clf',\n",
       "                                        MLPClassifier(activation='tanh',\n",
       "                                                      hidden_layer_sizes=(16,\n",
       "                                                                          10)))]),\n",
       "             n_jobs=6,\n",
       "             param_grid={'clf__batch_size': [64, 256],\n",
       "                         'clf__learning_rate_init': [0.001, 0.01],\n",
       "                         'clf__max_iter': [100, 250],\n",
       "                         'clf__n_iter_no_change': [10, 50],\n",
       "                         'clf__solver': ('adam', 'sgd')},\n",
       "             scoring='accuracy', verbose=4)"
      ]
     },
     "execution_count": 20,
     "metadata": {},
     "output_type": "execute_result"
    }
   ],
   "source": [
    "index = 4\n",
    "searchers[index].fit(x, y)"
   ]
  },
  {
   "cell_type": "code",
   "execution_count": 21,
   "metadata": {},
   "outputs": [
    {
     "data": {
      "text/plain": [
       "(Pipeline(steps=[('scale', StandardScaler()),\n",
       "                 ('clf',\n",
       "                  MLPClassifier(activation='tanh', batch_size=256,\n",
       "                                hidden_layer_sizes=(16, 10),\n",
       "                                learning_rate_init=0.01, max_iter=100,\n",
       "                                n_iter_no_change=50))]),\n",
       " 0.5219393120005045)"
      ]
     },
     "execution_count": 21,
     "metadata": {},
     "output_type": "execute_result"
    }
   ],
   "source": [
    "searchers[index].best_estimator_, searchers[index].best_score_"
   ]
  },
  {
   "cell_type": "code",
   "execution_count": 22,
   "metadata": {},
   "outputs": [
    {
     "data": {
      "text/plain": [
       "['gridsearch_4.pkl']"
      ]
     },
     "execution_count": 22,
     "metadata": {},
     "output_type": "execute_result"
    }
   ],
   "source": [
    "joblib.dump(searchers[index], 'gridsearch_{}.pkl'.format(index))"
   ]
  },
  {
   "cell_type": "code",
   "execution_count": 23,
   "metadata": {},
   "outputs": [
    {
     "name": "stdout",
     "output_type": "stream",
     "text": [
      "Fitting 5 folds for each of 32 candidates, totalling 160 fits\n"
     ]
    },
    {
     "name": "stderr",
     "output_type": "stream",
     "text": [
      "[Parallel(n_jobs=6)]: Using backend LokyBackend with 6 concurrent workers.\n",
      "[Parallel(n_jobs=6)]: Done  13 tasks      | elapsed: 15.9min\n",
      "[Parallel(n_jobs=6)]: Done  86 tasks      | elapsed: 99.1min\n",
      "[Parallel(n_jobs=6)]: Done 160 out of 160 | elapsed: 156.9min finished\n"
     ]
    },
    {
     "data": {
      "text/plain": [
       "GridSearchCV(estimator=Pipeline(steps=[('scale', StandardScaler()),\n",
       "                                       ('clf',\n",
       "                                        MLPClassifier(activation='tanh',\n",
       "                                                      hidden_layer_sizes=26))]),\n",
       "             n_jobs=6,\n",
       "             param_grid={'clf__batch_size': [64, 256],\n",
       "                         'clf__learning_rate_init': [0.001, 0.01],\n",
       "                         'clf__max_iter': [100, 250],\n",
       "                         'clf__n_iter_no_change': [10, 50],\n",
       "                         'clf__solver': ('adam', 'sgd')},\n",
       "             scoring='accuracy', verbose=4)"
      ]
     },
     "execution_count": 23,
     "metadata": {},
     "output_type": "execute_result"
    }
   ],
   "source": [
    "index = 5\n",
    "searchers[index].fit(x, y)"
   ]
  },
  {
   "cell_type": "code",
   "execution_count": 24,
   "metadata": {},
   "outputs": [
    {
     "data": {
      "text/plain": [
       "(Pipeline(steps=[('scale', StandardScaler()),\n",
       "                 ('clf',\n",
       "                  MLPClassifier(activation='tanh', batch_size=64,\n",
       "                                hidden_layer_sizes=26, learning_rate_init=0.01,\n",
       "                                max_iter=100))]),\n",
       " 0.5197017562574915)"
      ]
     },
     "execution_count": 24,
     "metadata": {},
     "output_type": "execute_result"
    }
   ],
   "source": [
    "searchers[index].best_estimator_, searchers[index].best_score_"
   ]
  },
  {
   "cell_type": "code",
   "execution_count": 25,
   "metadata": {},
   "outputs": [
    {
     "data": {
      "text/plain": [
       "['gridsearch_5.pkl']"
      ]
     },
     "execution_count": 25,
     "metadata": {},
     "output_type": "execute_result"
    }
   ],
   "source": [
    "joblib.dump(searchers[index], 'gridsearch_{}.pkl'.format(index))"
   ]
  },
  {
   "cell_type": "markdown",
   "metadata": {},
   "source": [
    "## Identificando a melhor solução\n",
    "\n",
    "Como resultado da busca em grande com validação cruzada 5-fold, identifique o modelo otimizado com melhor desempenho para o problema. Apresente claramente este modelo, seus parâmetros, hiperparâmetros otimizados e resultados para cada um dos folds avaliados. Esta é a melhor solução identificada em decorrência deste projeto"
   ]
  },
  {
   "cell_type": "raw",
   "metadata": {},
   "source": [
    "Dentre todos os testes realizados, a configuração que obteve o melhor score, neste caso em específico, acurácia, foi o teste 0, que corresponde aos seguintes parâmetros:"
   ]
  },
  {
   "cell_type": "code",
   "execution_count": 48,
   "metadata": {
    "scrolled": true
   },
   "outputs": [],
   "source": [
    "weights = searchers[0].best_estimator_['clf'].coefs_ #params\n",
    "hiper_parms = searchers[0].best_estimator_['clf'].get_params()#hiperparams"
   ]
  },
  {
   "cell_type": "code",
   "execution_count": 74,
   "metadata": {},
   "outputs": [
    {
     "name": "stdout",
     "output_type": "stream",
     "text": [
      "---------------------------\n",
      "Utilizando 5-folds, obtivemos a maior acurácia dentre todos os testes - 60.69%.\n",
      "A arquitetura utilizada foi composta por (10) camadas ocultas\n",
      "Esta arquitetura envolve o dataset que não continha os atributos categóricos\n",
      "Esta acurácia foi encontrada utilizando os seguintes hiperparametros:\n",
      "\t-Solver: adam\n",
      "\t-Tamanho do Batch: 256\n",
      "\t-Épocas: 100\n",
      "\t-Taxa de aprendizado inicial: 0.01\n",
      "\t-Paciência: 50\n"
     ]
    }
   ],
   "source": [
    "print('---------------------------')\n",
    "print('Utilizando {}-folds, obtivemos a maior acurácia dentre todos os testes - {:.2f}%.'.format(searchers[0].n_splits_, searchers[0].best_score_*100))\n",
    "print('A arquitetura utilizada foi composta por ({}) camadas ocultas'.format(searchers[0].best_estimator_['clf'].hidden_layer_sizes))\n",
    "print('Esta arquitetura envolve o dataset que não continha os atributos categóricos')\n",
    "print('Esta acurácia foi encontrada utilizando os seguintes hiperparametros:')\n",
    "print('\\t-Solver: {}'.format(searchers[0].best_params_['clf__solver']))\n",
    "print('\\t-Tamanho do Batch: {}'.format(searchers[0].best_params_['clf__batch_size']))\n",
    "print('\\t-Épocas: {}'.format(searchers[0].best_params_['clf__max_iter']))\n",
    "print('\\t-Taxa de aprendizado inicial: {}'.format(searchers[0].best_params_['clf__learning_rate_init']))\n",
    "print('\\t-Paciência: {}'.format(searchers[0].best_params_['clf__n_iter_no_change']))"
   ]
  },
  {
   "cell_type": "code",
   "execution_count": 71,
   "metadata": {},
   "outputs": [
    {
     "name": "stdout",
     "output_type": "stream",
     "text": [
      "------------------------------\n",
      "Resultado de cada um dos folds\n",
      "------------------------------\n",
      "\n",
      "Fold 1\n",
      "Resultado para o fold 1: 58.56%\n",
      "Fold 2\n",
      "Resultado para o fold 2: 61.79%\n",
      "Fold 3\n",
      "Resultado para o fold 3: 59.00%\n",
      "Fold 4\n",
      "Resultado para o fold 4: 65.55%\n",
      "Fold 5\n",
      "Resultado para o fold 5: 58.55%\n"
     ]
    }
   ],
   "source": [
    "print('------------------------------')\n",
    "print('Resultado de cada um dos folds')\n",
    "print('------------------------------')\n",
    "print()\n",
    "best_index = searchers[0].best_index_\n",
    "for i in range(5):\n",
    "    print('Fold {}'.format(i+1))\n",
    "    print('Resultado para o fold {}: {:.2f}%'.format(i+1, searchers[0].cv_results_['split{}_test_score'.format(i)][best_index]*100))"
   ]
  },
  {
   "cell_type": "markdown",
   "metadata": {},
   "source": [
    "## Empacotando a solução\n",
    "\n",
    "Suponha que você deve entregar este classificador ao órgão responsável por administrar o Roosevelt National Park. Para tanto, você deve fazer uma preparação do mesmo para utilização neste cenário. Uma vez que já identificou os melhores parâmetros e hiperparâmetros, o passo remanescente consiste em treinar o modelo com estes valores e todos os dados disponíveis, salvando o conjunto de pesos do modelo ao final para entrega ao cliente. Assim, finalize o projeto prático realizando tais passos.\n",
    "\n",
    "1. Consulte a documentação a seguir:\n",
    "https://scikit-learn.org/stable/modules/model_persistence.html\n",
    "2. Treine o modelo com todos os dados\n",
    "3. Salve o modelo em disco  \n",
    "4. Construa uma rotina que recupere o modelo em disco  \n",
    "5. Mostre que a rotina é funcional, fazendo previsões com todos os elementos do dataset e exibindo uma matriz de confusão das mesmas"
   ]
  },
  {
   "cell_type": "code",
   "execution_count": 72,
   "metadata": {},
   "outputs": [],
   "source": [
    "#primeiramente, carrega-se o dataset novamente.\n",
    "# Carregando a base...\n",
    "df = pd.read_csv('../data/covtype.csv')\n",
    "df.head()\n",
    "\n",
    "# Separando os atributos preditores do atributo alvo\n",
    "\n",
    "#sem categoricos\n",
    "df_nocat = df.drop([('Wilderness_Area' + str(i)) for i in range(1, 5)] + [('Soil_Type'+ str(i)) for i in range(1, 41)], axis = 1)\n",
    "x_nocat = df_nocat.drop(['Cover_Type'],axis = 1)\n",
    "y_nocat = df_nocat['Cover_Type']"
   ]
  },
  {
   "cell_type": "code",
   "execution_count": 82,
   "metadata": {},
   "outputs": [],
   "source": [
    "scaler = StandardScaler()\n",
    "x_nocat = scaler.fit_transform(x_nocat)"
   ]
  },
  {
   "cell_type": "code",
   "execution_count": 83,
   "metadata": {},
   "outputs": [],
   "source": [
    "clf = MLPClassifier(learning_rate_init = 0.01, batch_size = 256, max_iter = 100, solver='adam')"
   ]
  },
  {
   "cell_type": "code",
   "execution_count": 84,
   "metadata": {},
   "outputs": [
    {
     "data": {
      "text/plain": [
       "MLPClassifier(batch_size=256, learning_rate_init=0.01, max_iter=100)"
      ]
     },
     "execution_count": 84,
     "metadata": {},
     "output_type": "execute_result"
    }
   ],
   "source": [
    "clf.fit(x_nocat, y_nocat)"
   ]
  },
  {
   "cell_type": "code",
   "execution_count": 89,
   "metadata": {},
   "outputs": [],
   "source": [
    "#persistir o modelo em disco\n",
    "from joblib import dump, load\n",
    "dump(clf, 'model_final_3.4.joblib')\n"
   ]
  },
  {
   "cell_type": "markdown",
   "metadata": {},
   "source": [
    "### Rotina de carregamento + predição"
   ]
  },
  {
   "cell_type": "code",
   "execution_count": 90,
   "metadata": {},
   "outputs": [],
   "source": [
    "clf = load('model_final_3.4.joblib')\n",
    "y_pred = clf.predict(x_nocat)"
   ]
  },
  {
   "cell_type": "code",
   "execution_count": 94,
   "metadata": {},
   "outputs": [
    {
     "data": {
      "text/plain": [
       "(7.5, -0.5)"
      ]
     },
     "execution_count": 94,
     "metadata": {},
     "output_type": "execute_result"
    },
    {
     "data": {
      "image/png": "[encoded data removed]",
      "text/plain": [
       "<Figure size 576x576 with 2 Axes>"
      ]
     },
     "metadata": {
      "needs_background": "light"
     },
     "output_type": "display_data"
    }
   ],
   "source": [
    "cf_matrix = sklearn.metrics.confusion_matrix(y_pred, y_nocat, normalize = 'true')\n",
    "fig, ax = plt.subplots(figsize=(8,8))\n",
    "# ax = sns.heatmap(cf_matrix, annot=True, cmap='Blues')\n",
    "plt.title('Matriz de confusão para todo o dataset')\n",
    "ax = sns.heatmap(cf_matrix, annot=True, cmap='Blues')\n",
    "bottom, top = ax.get_ylim()\n",
    "ax.set_ylim(bottom + 0.5, top - 0.5)"
   ]
  }
 ],
 "metadata": {
  "kernelspec": {
   "display_name": "Python 3",
   "language": "python",
   "name": "python3"
  },
  "language_info": {
   "codemirror_mode": {
    "name": "ipython",
    "version": 3
   },
   "file_extension": ".py",
   "mimetype": "text/x-python",
   "name": "python",
   "nbconvert_exporter": "python",
   "pygments_lexer": "ipython3",
   "version": "3.8.3"
  }
 },
 "nbformat": 4,
 "nbformat_minor": 4
}
