{
 "cells": [
  {
   "cell_type": "markdown",
   "metadata": {},
   "source": [
    "## Redes Neurais Artificiais 2020.1\n",
    "\n",
    "**Disciplina**: Redes Neurais Artificiais 2020.1  \n",
    "**Professora**: Elloá B. Guedes (ebgcosta@uea.edu.br)  \n",
    "**Github**: http://github.com/elloa  \n",
    "        \n",
    "\n",
    "Levando em conta a base de dados **_Forest Cover Type_**, esta terceira parte do Projeto Prático 3 diz respeito à proposição e avaliação de múltiplas redes neurais artificiais do tipo feedforward multilayer perceptron para o problema da classificação multi-classe da cobertura florestal em uma área do Roosevelt National Forest.\n",
    "\n",
    "# Disclaimer: Professora, tivemos um problema durante o treinamento das redes na parte da pirâmida geométrica: a luz foi embora aqui em casa no domingo de manhã e acabei perdendo o treinamento. Para dar tempo de entregar ainda hoje, reduzi a quantidade de repetições de 10 para 5 e diminui a quantidade de configurações utilizando a pirâmide geométrica de 30 para 20.\n",
    "\n",
    "## Testando Redes Neurais sem os Atributos Categórios\n",
    "\n",
    "1. Abra a base de dados em questão\n",
    "2. Elimine todas as colunas relativas aos atributos categóricos\n",
    "3. Armazene o atributo alvo em uma variável y e os atributos preditores em uma variável X\n",
    "4. Efetue uma partição holdout 70/30 com o sklearn, distribuindo os exemplos de maneira aleatória\n",
    "5. Efetue o escalonamento dos atributos\n",
    "\n",
    "### Escalonando os atributos\n",
    "\n",
    "O treinamento de uma rede neural artificial é mais eficiente quando os valores que lhes são fornecidos como entrada são pequenos, pois isto favorece a convergência. Isto é feito escalonando-se todos os atributos para o intervalo [0,1], mas precisa ser feito de maneira cautelosa, para que informações do conjunto de teste não sejam fornecidas no treinamento.\n",
    "\n",
    "Há duas estratégias para tal escalonamento: normalização e padronização. Ambas possuem características particulares, vantagens e limitações, como é possível ver aqui: https://www.analyticsvidhya.com/blog/2020/04/feature-scaling-machine-learning-normalization-standardization/\n",
    "\n",
    "\n",
    "No nosso caso, vamos usar a padronização. Assim, com os atributos preditores do treinamento, isto é, X_train, deve-se subtrair a média e dividir pelo desvio padrão:\n",
    "\n",
    "X_train_std = (X_train - np.mean(X_train))/np.std(X_train)\n",
    "\n",
    "Em seguida, o mesmo deve ser feito com os atributos preditores do conjunto de testes, mas com padronização relativa ao conjunto de treinamento:\n",
    "\n",
    "X_test_std = (X_test - np.mean(X_train))/np.std(X_train)\n",
    "\n",
    "Se todo o conjunto X for utilizado na padronização, a rede neural receberá informações do conjunto de teste por meio da média e variância utilizada para preparar os dados de treinamento, o que não é desejável.\n",
    "\n",
    "\n",
    "### Continuando\n",
    "\n",
    "5. Treine uma rede neural multilayer perceptron para este problema com uma única camada e dez neurônios  \n",
    "    5.1 Utilize a função de ativação ReLU  \n",
    "    5.2 Utilize o solver Adam    \n",
    "    5.3 Imprima o passo a passo do treinamento    \n",
    "    5.4 Utilize o número máximo de épocas igual a 300  \n",
    "6. Com o modelo em questão, após o treinamento, apresente:  \n",
    "    6.1 Matriz de confusão para o conjunto de teste  \n",
    "    6.2 Acurácia  \n",
    "    6.3 F-Score  \n",
    "    6.4 Precisão  \n",
    "    6.5 Revocação  \n",
    "7. Repita o treinamento da mesma rede anterior sem imprimir o passo a passo (verbose False) por 100 vezes  \n",
    "    7.1 Cada uma destas repetições deve ser feita com uma nova partição Holdout  \n",
    "    7.2 Apresente a média e o desvio padrão da acurácia e do F-Score para o conjunto de treino  \n",
    "8. Repita por 100 vezes o treinamento desta mesma rede, mas utilizando o otimizador SGD  \n",
    "    8.1 Apresente a média e o desvio padrão da acurácia e do F-Score para o conjunto de treino  \n",
    "9. Houve influência da escolha do otimizador no desempenho da rede?"
   ]
  },
  {
   "cell_type": "code",
   "execution_count": 59,
   "metadata": {},
   "outputs": [],
   "source": [
    "#começando com os imports\n",
    "import numpy as np\n",
    "import pandas as pd\n",
    "from matplotlib import pyplot as plt\n",
    "import sklearn\n",
    "from sklearn.model_selection import train_test_split\n",
    "from sklearn.neural_network import MLPClassifier\n",
    "from sklearn.metrics import confusion_matrix\n",
    "import seaborn as sns\n",
    "import mkl\n",
    "mkl.set_num_threads(10)\n",
    "import warnings\n",
    "import time\n",
    "import random\n",
    "import pickle\n",
    "#isso é para ignorar os warnings dizendo que a rede atingiu o numero maximo de iterações e não convergiu\n",
    "warnings.filterwarnings('ignore') "
   ]
  },
  {
   "cell_type": "markdown",
   "metadata": {},
   "source": [
    "### Classes e funções que serão utilizadas durante os testes"
   ]
  },
  {
   "cell_type": "code",
   "execution_count": 3,
   "metadata": {},
   "outputs": [],
   "source": [
    "#classe para padronizar os dados\n",
    "class standardizer:\n",
    "    def __init__(self):\n",
    "        self.mean = None\n",
    "        self.std = None\n",
    "        \n",
    "    def fit(self, data):\n",
    "        if self.mean is not None or self.std is not None:\n",
    "            print('Overwriting previous state!')\n",
    "        self.mean = np.mean(data)\n",
    "        self.std = np.std(data)\n",
    "        \n",
    "    def transform(self, data):\n",
    "        if self.mean is None or self.std is None:\n",
    "            raise Exception('Standardizer not yet fit on any data!')\n",
    "        \n",
    "        return (data - self.mean)/self.std\n",
    "    \n",
    "    def fit_transform(self, data):\n",
    "        self.fit(data)\n",
    "        return self.transform(data)"
   ]
  },
  {
   "cell_type": "code",
   "execution_count": 4,
   "metadata": {},
   "outputs": [],
   "source": [
    "#para otimizar os treinamentos e testes de hiperparametros, sera utilizada a seguinte função, que servirá como jig de testes.\n",
    "def automate_nn_test(config, activation, solver, epochs, data, label, return_cm = False, reps = 1, get_train_metrics = False):\n",
    "    \"\"\"\n",
    "    Parameters\n",
    "    ----------\n",
    "    config : tuple\n",
    "        Tupla contendo a configuração que será utilizada na rede\n",
    "    activation : string\n",
    "        Um de 'identity', 'logistic', 'tanh', 'relu'\n",
    "    solver : string\n",
    "        Um de 'lbfgs', 'sgd', 'adam'\n",
    "    epochs : int\n",
    "        Quantidade máxima de épocas para treinar o modelo. Há paciência de epochs//4 para o treinamento.\n",
    "    data : np.array\n",
    "        Dados utilizados para o treinamento\n",
    "    label : np.array\n",
    "        Rótulo de cada uma das entradas\n",
    "    return_cm : boolean\n",
    "        Para retornar ou não a matriz de confusão\n",
    "    reps : int\n",
    "        Quantidade de vezes que o modelo será retreinado. Cada vez é realizado um novo split dos dados\n",
    "    get_train_metrics : boolean\n",
    "        Define se as métricas de avaliação serão calculadas com base no set de treino ou no set de teste. Default = False\n",
    "    \"\"\"\n",
    "    accuracy_scores = []\n",
    "    precision_scores = []\n",
    "    recall_scores = []\n",
    "    f1_scores = []\n",
    "    top_fscr = 0\n",
    "    for instance in range(reps):\n",
    "        start = time.time()\n",
    "        #split\n",
    "        x_train, x_test, y_train, y_test = train_test_split(data, label, test_size=0.3)\n",
    "        #padronização\n",
    "        scaler = standardizer()\n",
    "        x_train = scaler.fit_transform(x_train)\n",
    "        x_test = scaler.transform(x_test)\n",
    "        #instanciação e treinamento do modelo\n",
    "        model = MLPClassifier(hidden_layer_sizes = config, activation = activation, solver=solver, max_iter = epochs, n_iter_no_change = epochs//4, verbose = False)\n",
    "        model.fit(x_train, y_train)\n",
    "        #previsão para adquirir métricas\n",
    "        if get_train_metrics:\n",
    "            metric_data = x_train\n",
    "            metric_label = y_train\n",
    "        else:\n",
    "            metric_data = x_test\n",
    "            metric_label = y_test\n",
    "        y_pred = model.predict(metric_data)\n",
    "        accuracy_scores.append(sklearn.metrics.accuracy_score(metric_label, y_pred))\n",
    "        #precision_scores.append(sklearn.metrics.precision_score(metric_label, y_pred, labels = np.unique(metric_label), average = 'macro'))\n",
    "        #recall_scores.append(sklearn.metrics.recall_score(metric_label, y_pred, labels = np.unique(metric_label), average = 'macro'))\n",
    "        f1 = sklearn.metrics.f1_score(metric_label, y_pred, labels = np.unique(metric_label), average = 'macro')\n",
    "        f1_scores.append(f1)\n",
    "        if return_cm:\n",
    "            if top_fscr < f1:\n",
    "                top_fscr = f1\n",
    "                cm = confusion_matrix(metric_label, y_pred, normalize = 'true')\n",
    "        print('Tempo para essa configuração:{:.2f} segundos'.format(time.time() - start))\n",
    "#         if instance%5 == 0:\n",
    "#             print('Done with first '+str(instance))\n",
    "    #para manter em disco.\n",
    "    \n",
    "    if return_cm:\n",
    "        hash_no = random.getrandbits(30)\n",
    "        np.save('../npys/metrics_with_cm_'+activation+'_'+solver+'_'+str(reps)+str(hash_no)+'.npy',[accuracy_scores, precision_scores, recall_scores, f1_scores, cm])\n",
    "        return accuracy_scores, precision_scores, recall_scores, f1_scores, cm\n",
    "    else:\n",
    "        hash_no = random.getrandbits(30)\n",
    "        np.save('../npys/metrics'+activation+'_'+solver+'_'+str(reps)+str(hash_no)+'.npy',[accuracy_scores, precision_scores, recall_scores, f1_scores])\n",
    "        return accuracy_scores, precision_scores, recall_scores, f1_scores"
   ]
  },
  {
   "cell_type": "markdown",
   "metadata": {},
   "source": [
    "## Primeira parte - Treinamento de uma rede, sem os atributos categóricos"
   ]
  },
  {
   "cell_type": "code",
   "execution_count": 5,
   "metadata": {},
   "outputs": [
    {
     "data": {
      "text/html": [
       "<div>\n",
       "<style scoped>\n",
       "    .dataframe tbody tr th:only-of-type {\n",
       "        vertical-align: middle;\n",
       "    }\n",
       "\n",
       "    .dataframe tbody tr th {\n",
       "        vertical-align: top;\n",
       "    }\n",
       "\n",
       "    .dataframe thead th {\n",
       "        text-align: right;\n",
       "    }\n",
       "</style>\n",
       "<table border=\"1\" class=\"dataframe\">\n",
       "  <thead>\n",
       "    <tr style=\"text-align: right;\">\n",
       "      <th></th>\n",
       "      <th>Elevation</th>\n",
       "      <th>Aspect</th>\n",
       "      <th>Slope</th>\n",
       "      <th>Horizontal_Distance_To_Hydrology</th>\n",
       "      <th>Vertical_Distance_To_Hydrology</th>\n",
       "      <th>Horizontal_Distance_To_Roadways</th>\n",
       "      <th>Hillshade_9am</th>\n",
       "      <th>Hillshade_Noon</th>\n",
       "      <th>Hillshade_3pm</th>\n",
       "      <th>Horizontal_Distance_To_Fire_Points</th>\n",
       "      <th>...</th>\n",
       "      <th>Soil_Type32</th>\n",
       "      <th>Soil_Type33</th>\n",
       "      <th>Soil_Type34</th>\n",
       "      <th>Soil_Type35</th>\n",
       "      <th>Soil_Type36</th>\n",
       "      <th>Soil_Type37</th>\n",
       "      <th>Soil_Type38</th>\n",
       "      <th>Soil_Type39</th>\n",
       "      <th>Soil_Type40</th>\n",
       "      <th>Cover_Type</th>\n",
       "    </tr>\n",
       "  </thead>\n",
       "  <tbody>\n",
       "    <tr>\n",
       "      <th>0</th>\n",
       "      <td>2596</td>\n",
       "      <td>51</td>\n",
       "      <td>3</td>\n",
       "      <td>258</td>\n",
       "      <td>0</td>\n",
       "      <td>510</td>\n",
       "      <td>221</td>\n",
       "      <td>232</td>\n",
       "      <td>148</td>\n",
       "      <td>6279</td>\n",
       "      <td>...</td>\n",
       "      <td>0</td>\n",
       "      <td>0</td>\n",
       "      <td>0</td>\n",
       "      <td>0</td>\n",
       "      <td>0</td>\n",
       "      <td>0</td>\n",
       "      <td>0</td>\n",
       "      <td>0</td>\n",
       "      <td>0</td>\n",
       "      <td>5</td>\n",
       "    </tr>\n",
       "    <tr>\n",
       "      <th>1</th>\n",
       "      <td>2590</td>\n",
       "      <td>56</td>\n",
       "      <td>2</td>\n",
       "      <td>212</td>\n",
       "      <td>-6</td>\n",
       "      <td>390</td>\n",
       "      <td>220</td>\n",
       "      <td>235</td>\n",
       "      <td>151</td>\n",
       "      <td>6225</td>\n",
       "      <td>...</td>\n",
       "      <td>0</td>\n",
       "      <td>0</td>\n",
       "      <td>0</td>\n",
       "      <td>0</td>\n",
       "      <td>0</td>\n",
       "      <td>0</td>\n",
       "      <td>0</td>\n",
       "      <td>0</td>\n",
       "      <td>0</td>\n",
       "      <td>5</td>\n",
       "    </tr>\n",
       "    <tr>\n",
       "      <th>2</th>\n",
       "      <td>2804</td>\n",
       "      <td>139</td>\n",
       "      <td>9</td>\n",
       "      <td>268</td>\n",
       "      <td>65</td>\n",
       "      <td>3180</td>\n",
       "      <td>234</td>\n",
       "      <td>238</td>\n",
       "      <td>135</td>\n",
       "      <td>6121</td>\n",
       "      <td>...</td>\n",
       "      <td>0</td>\n",
       "      <td>0</td>\n",
       "      <td>0</td>\n",
       "      <td>0</td>\n",
       "      <td>0</td>\n",
       "      <td>0</td>\n",
       "      <td>0</td>\n",
       "      <td>0</td>\n",
       "      <td>0</td>\n",
       "      <td>2</td>\n",
       "    </tr>\n",
       "    <tr>\n",
       "      <th>3</th>\n",
       "      <td>2785</td>\n",
       "      <td>155</td>\n",
       "      <td>18</td>\n",
       "      <td>242</td>\n",
       "      <td>118</td>\n",
       "      <td>3090</td>\n",
       "      <td>238</td>\n",
       "      <td>238</td>\n",
       "      <td>122</td>\n",
       "      <td>6211</td>\n",
       "      <td>...</td>\n",
       "      <td>0</td>\n",
       "      <td>0</td>\n",
       "      <td>0</td>\n",
       "      <td>0</td>\n",
       "      <td>0</td>\n",
       "      <td>0</td>\n",
       "      <td>0</td>\n",
       "      <td>0</td>\n",
       "      <td>0</td>\n",
       "      <td>2</td>\n",
       "    </tr>\n",
       "    <tr>\n",
       "      <th>4</th>\n",
       "      <td>2595</td>\n",
       "      <td>45</td>\n",
       "      <td>2</td>\n",
       "      <td>153</td>\n",
       "      <td>-1</td>\n",
       "      <td>391</td>\n",
       "      <td>220</td>\n",
       "      <td>234</td>\n",
       "      <td>150</td>\n",
       "      <td>6172</td>\n",
       "      <td>...</td>\n",
       "      <td>0</td>\n",
       "      <td>0</td>\n",
       "      <td>0</td>\n",
       "      <td>0</td>\n",
       "      <td>0</td>\n",
       "      <td>0</td>\n",
       "      <td>0</td>\n",
       "      <td>0</td>\n",
       "      <td>0</td>\n",
       "      <td>5</td>\n",
       "    </tr>\n",
       "  </tbody>\n",
       "</table>\n",
       "<p>5 rows × 55 columns</p>\n",
       "</div>"
      ],
      "text/plain": [
       "   Elevation  Aspect  Slope  Horizontal_Distance_To_Hydrology  \\\n",
       "0       2596      51      3                               258   \n",
       "1       2590      56      2                               212   \n",
       "2       2804     139      9                               268   \n",
       "3       2785     155     18                               242   \n",
       "4       2595      45      2                               153   \n",
       "\n",
       "   Vertical_Distance_To_Hydrology  Horizontal_Distance_To_Roadways  \\\n",
       "0                               0                              510   \n",
       "1                              -6                              390   \n",
       "2                              65                             3180   \n",
       "3                             118                             3090   \n",
       "4                              -1                              391   \n",
       "\n",
       "   Hillshade_9am  Hillshade_Noon  Hillshade_3pm  \\\n",
       "0            221             232            148   \n",
       "1            220             235            151   \n",
       "2            234             238            135   \n",
       "3            238             238            122   \n",
       "4            220             234            150   \n",
       "\n",
       "   Horizontal_Distance_To_Fire_Points  ...  Soil_Type32  Soil_Type33  \\\n",
       "0                                6279  ...            0            0   \n",
       "1                                6225  ...            0            0   \n",
       "2                                6121  ...            0            0   \n",
       "3                                6211  ...            0            0   \n",
       "4                                6172  ...            0            0   \n",
       "\n",
       "   Soil_Type34  Soil_Type35  Soil_Type36  Soil_Type37  Soil_Type38  \\\n",
       "0            0            0            0            0            0   \n",
       "1            0            0            0            0            0   \n",
       "2            0            0            0            0            0   \n",
       "3            0            0            0            0            0   \n",
       "4            0            0            0            0            0   \n",
       "\n",
       "   Soil_Type39  Soil_Type40  Cover_Type  \n",
       "0            0            0           5  \n",
       "1            0            0           5  \n",
       "2            0            0           2  \n",
       "3            0            0           2  \n",
       "4            0            0           5  \n",
       "\n",
       "[5 rows x 55 columns]"
      ]
     },
     "execution_count": 5,
     "metadata": {},
     "output_type": "execute_result"
    }
   ],
   "source": [
    "#carregando a base...\n",
    "df = pd.read_csv('../data/covtype.csv')\n",
    "df.head()"
   ]
  },
  {
   "cell_type": "code",
   "execution_count": 6,
   "metadata": {},
   "outputs": [],
   "source": [
    "#eliminando todas as colunas referentes a atributos categóricos, ou sejaos tipos de solo e area selvagem\n",
    "df_nocat = df.drop([('Wilderness_Area' + str(i)) for i in range(1, 5)] + [('Soil_Type'+ str(i)) for i in range(1, 41)], axis = 1)\n",
    "#separando os atributos preditores do atributo alvo\n",
    "x = df_nocat.drop(['Cover_Type'],axis = 1)\n",
    "y = df_nocat['Cover_Type']"
   ]
  },
  {
   "cell_type": "code",
   "execution_count": 6,
   "metadata": {},
   "outputs": [],
   "source": [
    "#split dos dados entre subset de treino e de teste\n",
    "x_train, x_test, y_train, y_test = train_test_split(x, y, test_size = 0.3, random_state=42)"
   ]
  },
  {
   "cell_type": "code",
   "execution_count": 8,
   "metadata": {},
   "outputs": [],
   "source": [
    "#instanciação da classe + transformação dos dados\n",
    "scaler = standardizer()\n",
    "x_train = scaler.fit_transform(x_train)\n",
    "x_test = scaler.transform(x_test)"
   ]
  },
  {
   "cell_type": "code",
   "execution_count": 41,
   "metadata": {
    "scrolled": true
   },
   "outputs": [
    {
     "name": "stdout",
     "output_type": "stream",
     "text": [
      "Iteration 1, loss = 0.91920244\n",
      "Iteration 2, loss = 0.70348802\n",
      "Iteration 3, loss = 0.68366345\n",
      "Iteration 4, loss = 0.67523440\n",
      "Iteration 5, loss = 0.67039244\n",
      "Iteration 6, loss = 0.66740437\n",
      "Iteration 7, loss = 0.66512318\n",
      "Iteration 8, loss = 0.66328408\n",
      "Iteration 9, loss = 0.66160236\n",
      "Iteration 10, loss = 0.66017383\n",
      "Iteration 11, loss = 0.65893352\n",
      "Iteration 12, loss = 0.65797364\n",
      "Iteration 13, loss = 0.65724795\n",
      "Iteration 14, loss = 0.65666252\n",
      "Iteration 15, loss = 0.65635399\n",
      "Iteration 16, loss = 0.65600088\n",
      "Iteration 17, loss = 0.65566371\n",
      "Iteration 18, loss = 0.65549202\n",
      "Iteration 19, loss = 0.65526754\n",
      "Iteration 20, loss = 0.65510796\n",
      "Iteration 21, loss = 0.65479345\n",
      "Iteration 22, loss = 0.65454959\n",
      "Iteration 23, loss = 0.65431434\n",
      "Iteration 24, loss = 0.65402389\n",
      "Iteration 25, loss = 0.65381120\n",
      "Iteration 26, loss = 0.65351214\n",
      "Iteration 27, loss = 0.65341816\n",
      "Iteration 28, loss = 0.65320107\n",
      "Iteration 29, loss = 0.65299684\n",
      "Iteration 30, loss = 0.65289542\n",
      "Iteration 31, loss = 0.65271983\n",
      "Iteration 32, loss = 0.65269388\n",
      "Iteration 33, loss = 0.65255348\n",
      "Iteration 34, loss = 0.65253845\n",
      "Iteration 35, loss = 0.65237861\n",
      "Iteration 36, loss = 0.65230160\n",
      "Iteration 37, loss = 0.65219300\n",
      "Iteration 38, loss = 0.65207163\n",
      "Iteration 39, loss = 0.65201104\n",
      "Iteration 40, loss = 0.65186515\n",
      "Iteration 41, loss = 0.65166051\n",
      "Iteration 42, loss = 0.65149348\n",
      "Iteration 43, loss = 0.65140496\n",
      "Iteration 44, loss = 0.65123431\n",
      "Iteration 45, loss = 0.65114616\n",
      "Iteration 46, loss = 0.65102790\n",
      "Iteration 47, loss = 0.65089930\n",
      "Iteration 48, loss = 0.65074475\n",
      "Iteration 49, loss = 0.65074651\n",
      "Iteration 50, loss = 0.65069924\n",
      "Iteration 51, loss = 0.65058429\n",
      "Iteration 52, loss = 0.65038152\n",
      "Iteration 53, loss = 0.65034248\n",
      "Iteration 54, loss = 0.65016915\n",
      "Iteration 55, loss = 0.65019906\n",
      "Iteration 56, loss = 0.65004108\n",
      "Iteration 57, loss = 0.65001083\n",
      "Iteration 58, loss = 0.64997670\n",
      "Iteration 59, loss = 0.64989814\n",
      "Iteration 60, loss = 0.64985166\n",
      "Iteration 61, loss = 0.64980114\n",
      "Iteration 62, loss = 0.64969432\n",
      "Iteration 63, loss = 0.64971918\n",
      "Iteration 64, loss = 0.64966245\n",
      "Iteration 65, loss = 0.64963663\n",
      "Iteration 66, loss = 0.64958452\n",
      "Iteration 67, loss = 0.64953056\n",
      "Iteration 68, loss = 0.64964573\n",
      "Iteration 69, loss = 0.64949815\n",
      "Iteration 70, loss = 0.64952994\n",
      "Iteration 71, loss = 0.64939914\n",
      "Iteration 72, loss = 0.64949876\n",
      "Iteration 73, loss = 0.64937724\n",
      "Iteration 74, loss = 0.64941085\n",
      "Iteration 75, loss = 0.64939346\n",
      "Iteration 76, loss = 0.64937313\n",
      "Iteration 77, loss = 0.64933545\n",
      "Iteration 78, loss = 0.64928061\n",
      "Iteration 79, loss = 0.64929273\n",
      "Iteration 80, loss = 0.64915772\n",
      "Iteration 81, loss = 0.64920817\n",
      "Iteration 82, loss = 0.64912131\n",
      "Iteration 83, loss = 0.64895564\n",
      "Iteration 84, loss = 0.64896853\n",
      "Iteration 85, loss = 0.64896467\n",
      "Iteration 86, loss = 0.64890945\n",
      "Iteration 87, loss = 0.64893768\n",
      "Iteration 88, loss = 0.64888612\n",
      "Iteration 89, loss = 0.64880736\n",
      "Iteration 90, loss = 0.64876880\n",
      "Iteration 91, loss = 0.64864046\n",
      "Iteration 92, loss = 0.64864629\n",
      "Iteration 93, loss = 0.64859308\n",
      "Iteration 94, loss = 0.64852225\n",
      "Iteration 95, loss = 0.64832625\n",
      "Iteration 96, loss = 0.64811246\n",
      "Iteration 97, loss = 0.64765326\n",
      "Iteration 98, loss = 0.64737277\n",
      "Iteration 99, loss = 0.64711488\n",
      "Iteration 100, loss = 0.64658879\n",
      "Iteration 101, loss = 0.64619915\n",
      "Iteration 102, loss = 0.64593697\n",
      "Iteration 103, loss = 0.64550938\n",
      "Iteration 104, loss = 0.64541911\n",
      "Iteration 105, loss = 0.64526999\n",
      "Iteration 106, loss = 0.64515825\n",
      "Iteration 107, loss = 0.64516487\n",
      "Iteration 108, loss = 0.64499401\n",
      "Iteration 109, loss = 0.64506016\n",
      "Iteration 110, loss = 0.64496244\n",
      "Iteration 111, loss = 0.64489946\n",
      "Iteration 112, loss = 0.64483724\n",
      "Iteration 113, loss = 0.64476916\n",
      "Iteration 114, loss = 0.64469820\n",
      "Iteration 115, loss = 0.64466609\n",
      "Iteration 116, loss = 0.64455298\n",
      "Iteration 117, loss = 0.64454265\n",
      "Iteration 118, loss = 0.64463423\n",
      "Iteration 119, loss = 0.64446913\n",
      "Iteration 120, loss = 0.64447831\n",
      "Iteration 121, loss = 0.64443759\n",
      "Iteration 122, loss = 0.64450686\n",
      "Iteration 123, loss = 0.64437961\n",
      "Iteration 124, loss = 0.64427685\n",
      "Iteration 125, loss = 0.64437747\n",
      "Iteration 126, loss = 0.64438662\n",
      "Iteration 127, loss = 0.64432345\n",
      "Iteration 128, loss = 0.64423923\n",
      "Iteration 129, loss = 0.64433355\n",
      "Iteration 130, loss = 0.64406960\n",
      "Iteration 131, loss = 0.64408993\n",
      "Iteration 132, loss = 0.64409232\n",
      "Iteration 133, loss = 0.64400620\n",
      "Iteration 134, loss = 0.64409895\n",
      "Iteration 135, loss = 0.64406542\n",
      "Iteration 136, loss = 0.64400807\n",
      "Iteration 137, loss = 0.64386719\n",
      "Iteration 138, loss = 0.64385087\n",
      "Iteration 139, loss = 0.64395305\n",
      "Iteration 140, loss = 0.64389440\n",
      "Iteration 141, loss = 0.64379395\n",
      "Iteration 142, loss = 0.64387125\n",
      "Iteration 143, loss = 0.64368036\n",
      "Iteration 144, loss = 0.64369892\n",
      "Iteration 145, loss = 0.64365452\n",
      "Iteration 146, loss = 0.64358508\n",
      "Iteration 147, loss = 0.64357563\n",
      "Iteration 148, loss = 0.64351061\n",
      "Iteration 149, loss = 0.64348209\n",
      "Iteration 150, loss = 0.64342131\n",
      "Iteration 151, loss = 0.64328215\n",
      "Iteration 152, loss = 0.64329018\n",
      "Iteration 153, loss = 0.64322322\n",
      "Iteration 154, loss = 0.64339708\n",
      "Iteration 155, loss = 0.64319519\n",
      "Iteration 156, loss = 0.64316628\n",
      "Iteration 157, loss = 0.64316461\n",
      "Iteration 158, loss = 0.64309744\n",
      "Iteration 159, loss = 0.64306228\n",
      "Iteration 160, loss = 0.64301826\n",
      "Iteration 161, loss = 0.64304963\n",
      "Iteration 162, loss = 0.64294503\n",
      "Iteration 163, loss = 0.64300417\n",
      "Iteration 164, loss = 0.64299957\n",
      "Iteration 165, loss = 0.64292936\n",
      "Iteration 166, loss = 0.64290413\n",
      "Iteration 167, loss = 0.64284278\n",
      "Iteration 168, loss = 0.64282971\n",
      "Iteration 169, loss = 0.64278075\n",
      "Iteration 170, loss = 0.64281744\n",
      "Iteration 171, loss = 0.64274530\n",
      "Iteration 172, loss = 0.64274506\n",
      "Iteration 173, loss = 0.64273252\n",
      "Iteration 174, loss = 0.64272927\n",
      "Iteration 175, loss = 0.64269752\n",
      "Iteration 176, loss = 0.64269461\n",
      "Iteration 177, loss = 0.64273129\n",
      "Iteration 178, loss = 0.64265954\n",
      "Iteration 179, loss = 0.64269041\n",
      "Iteration 180, loss = 0.64260258\n",
      "Iteration 181, loss = 0.64256257\n",
      "Iteration 182, loss = 0.64265648\n",
      "Iteration 183, loss = 0.64253287\n",
      "Iteration 184, loss = 0.64263130\n",
      "Iteration 185, loss = 0.64249693\n",
      "Iteration 186, loss = 0.64252835\n",
      "Iteration 187, loss = 0.64246971\n",
      "Iteration 188, loss = 0.64250603\n",
      "Iteration 189, loss = 0.64245696\n",
      "Iteration 190, loss = 0.64250535\n",
      "Iteration 191, loss = 0.64251406\n",
      "Iteration 192, loss = 0.64240945\n",
      "Iteration 193, loss = 0.64249011\n",
      "Iteration 194, loss = 0.64244269\n",
      "Iteration 195, loss = 0.64237659\n",
      "Iteration 196, loss = 0.64235498\n",
      "Iteration 197, loss = 0.64241535\n",
      "Iteration 198, loss = 0.64236784\n",
      "Iteration 199, loss = 0.64230294\n",
      "Iteration 200, loss = 0.64238233\n",
      "Iteration 201, loss = 0.64219571\n",
      "Iteration 202, loss = 0.64239144\n",
      "Iteration 203, loss = 0.64235921\n",
      "Iteration 204, loss = 0.64223086\n",
      "Iteration 205, loss = 0.64241035\n",
      "Iteration 206, loss = 0.64230584\n",
      "Iteration 207, loss = 0.64230341\n",
      "Iteration 208, loss = 0.64235495\n",
      "Iteration 209, loss = 0.64232999\n",
      "Iteration 210, loss = 0.64221575\n",
      "Iteration 211, loss = 0.64216048\n",
      "Iteration 212, loss = 0.64209330\n",
      "Iteration 213, loss = 0.64222625\n",
      "Iteration 214, loss = 0.64232824\n",
      "Iteration 215, loss = 0.64213141\n",
      "Iteration 216, loss = 0.64213026\n",
      "Iteration 217, loss = 0.64222267\n",
      "Iteration 218, loss = 0.64216019\n",
      "Iteration 219, loss = 0.64202126\n",
      "Iteration 220, loss = 0.64213032\n",
      "Iteration 221, loss = 0.64215091\n",
      "Iteration 222, loss = 0.64214366\n",
      "Iteration 223, loss = 0.64213871\n",
      "Iteration 224, loss = 0.64210940\n",
      "Iteration 225, loss = 0.64210130\n",
      "Iteration 226, loss = 0.64206517\n",
      "Iteration 227, loss = 0.64203053\n",
      "Iteration 228, loss = 0.64206435\n",
      "Iteration 229, loss = 0.64203006\n",
      "Iteration 230, loss = 0.64201606\n",
      "Iteration 231, loss = 0.64201307\n",
      "Iteration 232, loss = 0.64207732\n",
      "Iteration 233, loss = 0.64204903\n",
      "Iteration 234, loss = 0.64203105\n",
      "Iteration 235, loss = 0.64203412\n",
      "Iteration 236, loss = 0.64206212\n",
      "Iteration 237, loss = 0.64195257\n",
      "Iteration 238, loss = 0.64195613\n",
      "Iteration 239, loss = 0.64197503\n",
      "Iteration 240, loss = 0.64195479\n",
      "Iteration 241, loss = 0.64201245\n",
      "Iteration 242, loss = 0.64200397\n",
      "Iteration 243, loss = 0.64189049\n",
      "Iteration 244, loss = 0.64199929\n",
      "Iteration 245, loss = 0.64189977\n",
      "Iteration 246, loss = 0.64191534\n",
      "Iteration 247, loss = 0.64199000\n",
      "Iteration 248, loss = 0.64180840\n",
      "Iteration 249, loss = 0.64186821\n",
      "Iteration 250, loss = 0.64181466\n",
      "Iteration 251, loss = 0.64189558\n",
      "Iteration 252, loss = 0.64186956\n"
     ]
    },
    {
     "name": "stdout",
     "output_type": "stream",
     "text": [
      "Iteration 253, loss = 0.64181804\n",
      "Iteration 254, loss = 0.64187918\n",
      "Iteration 255, loss = 0.64184737\n",
      "Iteration 256, loss = 0.64186990\n",
      "Iteration 257, loss = 0.64174318\n",
      "Iteration 258, loss = 0.64180414\n",
      "Iteration 259, loss = 0.64176877\n",
      "Iteration 260, loss = 0.64173521\n",
      "Iteration 261, loss = 0.64171600\n",
      "Iteration 262, loss = 0.64177640\n",
      "Iteration 263, loss = 0.64157920\n",
      "Iteration 264, loss = 0.64170442\n",
      "Iteration 265, loss = 0.64174595\n",
      "Iteration 266, loss = 0.64167556\n",
      "Iteration 267, loss = 0.64166797\n",
      "Iteration 268, loss = 0.64165011\n",
      "Iteration 269, loss = 0.64159794\n",
      "Iteration 270, loss = 0.64157177\n",
      "Iteration 271, loss = 0.64157854\n",
      "Iteration 272, loss = 0.64162922\n",
      "Iteration 273, loss = 0.64163410\n",
      "Iteration 274, loss = 0.64162574\n",
      "Iteration 275, loss = 0.64145291\n",
      "Iteration 276, loss = 0.64159420\n",
      "Iteration 277, loss = 0.64156284\n",
      "Iteration 278, loss = 0.64156925\n",
      "Iteration 279, loss = 0.64162635\n",
      "Iteration 280, loss = 0.64154971\n",
      "Iteration 281, loss = 0.64154929\n",
      "Iteration 282, loss = 0.64160059\n",
      "Iteration 283, loss = 0.64145214\n",
      "Iteration 284, loss = 0.64149905\n",
      "Iteration 285, loss = 0.64144254\n",
      "Iteration 286, loss = 0.64153336\n",
      "Iteration 287, loss = 0.64141149\n",
      "Iteration 288, loss = 0.64141252\n",
      "Iteration 289, loss = 0.64148128\n",
      "Iteration 290, loss = 0.64141507\n",
      "Iteration 291, loss = 0.64142844\n",
      "Iteration 292, loss = 0.64143297\n",
      "Iteration 293, loss = 0.64140062\n",
      "Iteration 294, loss = 0.64137873\n",
      "Iteration 295, loss = 0.64135893\n",
      "Iteration 296, loss = 0.64134408\n",
      "Iteration 297, loss = 0.64145788\n",
      "Iteration 298, loss = 0.64130067\n",
      "Iteration 299, loss = 0.64127043\n",
      "Iteration 300, loss = 0.64129683\n",
      "248.84361600875854\n"
     ]
    }
   ],
   "source": [
    "#rede neural\n",
    "epochs = 300\n",
    "solver = 'adam'\n",
    "activation = 'relu'\n",
    "config = (10)\n",
    "import time\n",
    "start = time.time()\n",
    "model = MLPClassifier(hidden_layer_sizes=config, activation=activation, solver=solver, verbose=True, max_iter=epochs, n_iter_no_change = epochs//4).fit(x_train, y_train)\n",
    "print(time.time() - start)"
   ]
  },
  {
   "cell_type": "code",
   "execution_count": 44,
   "metadata": {},
   "outputs": [
    {
     "data": {
      "text/plain": [
       "(7.5, -0.5)"
      ]
     },
     "execution_count": 44,
     "metadata": {},
     "output_type": "execute_result"
    },
    {
     "data": {
      "image/png": "[encoded data removed]",
      "text/plain": [
       "<Figure size 576x576 with 2 Axes>"
      ]
     },
     "metadata": {
      "needs_background": "light"
     },
     "output_type": "display_data"
    }
   ],
   "source": [
    "#métricas\n",
    "y_pred = model.predict(x_test)\n",
    "cf_matrix = confusion_matrix(y_test, y_pred, normalize = 'true')\n",
    "fig, ax = plt.subplots(figsize=(8,8))\n",
    "# ax = sns.heatmap(cf_matrix, annot=True, cmap='Blues')\n",
    "ax = sns.heatmap(cf_matrix, annot=True, cmap='Blues')\n",
    "bottom, top = ax.get_ylim()\n",
    "ax.set_ylim(bottom + 0.5, top - 0.5)"
   ]
  },
  {
   "cell_type": "code",
   "execution_count": 14,
   "metadata": {
    "scrolled": true
   },
   "outputs": [
    {
     "name": "stdout",
     "output_type": "stream",
     "text": [
      "As métricas para esta configuração do modelo foram:\n",
      "Acurácia: 0.7108786946943272\n",
      "Precisao: 0.6592107904340647\n",
      "Revocacao: 0.4855283378120249\n",
      "F1-Score: 0.523174742882179\n"
     ]
    }
   ],
   "source": [
    "acc = sklearn.metrics.accuracy_score(y_test, y_pred)\n",
    "prec = sklearn.metrics.precision_score(y_test, y_pred, labels = np.unique(y_test), average = 'macro')\n",
    "rec = sklearn.metrics.recall_score(y_test, y_pred, labels = np.unique(y_test), average = 'macro')\n",
    "f1 = sklearn.metrics.f1_score(y_test, y_pred, labels = np.unique(y_test), average = 'macro')\n",
    "\n",
    "print('As métricas para esta configuração do modelo foram:\\nAcurácia: {}\\nPrecisao: {}\\nRevocacao: {}\\nF1-Score: {}'.format(acc, prec, rec, f1))"
   ]
  },
  {
   "cell_type": "markdown",
   "metadata": {},
   "source": [
    "# Nesta parte, é testada as mudanças que o solver pode causar no treinamento.\n",
    "\n",
    "Para mostrar essa diferença, as métricas refletem o processo de treinamento, ao invés de utilizar o set de treino, que é normalmente utilizado para avaliar a qualidade da rede. Sendo assim, o principal objetivo desta parte é avaliar o próprio processo de treinamento."
   ]
  },
  {
   "cell_type": "markdown",
   "metadata": {},
   "source": [
    "## Usando o solver Adam"
   ]
  },
  {
   "cell_type": "code",
   "execution_count": 16,
   "metadata": {},
   "outputs": [
    {
     "name": "stdout",
     "output_type": "stream",
     "text": [
      "Done with first 0\n",
      "Done with first 5\n",
      "Done with first 10\n"
     ]
    }
   ],
   "source": [
    "epochs = 300\n",
    "solver = 'adam'\n",
    "activation = 'relu'\n",
    "config = (10)\n",
    "accuracy_scores, precision_scores, recall_scores, f1_scores = automate_nn_test(config, activation, solver, epochs,  x, y, reps = 10, get_train_metrics = True)"
   ]
  },
  {
   "cell_type": "code",
   "execution_count": 17,
   "metadata": {},
   "outputs": [
    {
     "name": "stdout",
     "output_type": "stream",
     "text": [
      "As métricas, em média e desvio padrão, para esta configuração do modelo foram:\n",
      "Acurácia média: 0.72+-0.00\n",
      "F1-Score médio: 0.53+-0.02\n"
     ]
    }
   ],
   "source": [
    "print('As métricas, em média e desvio padrão, para esta configuração do modelo foram:\\nAcurácia média: {:.2f}+-{:.2f}\\nF1-Score médio: {:.2f}+-{:.2f}'.format(\n",
    "    np.mean(accuracy_scores), np.std(accuracy_scores), np.mean(f1_scores), np.std(f1_scores)))"
   ]
  },
  {
   "cell_type": "markdown",
   "metadata": {},
   "source": [
    "## Usando o solver SGD"
   ]
  },
  {
   "cell_type": "code",
   "execution_count": 124,
   "metadata": {
    "scrolled": true
   },
   "outputs": [
    {
     "name": "stdout",
     "output_type": "stream",
     "text": [
      "Tempo para essa configuração:160.08 segundos\n",
      "Tempo para essa configuração:231.02 segundos\n",
      "Tempo para essa configuração:163.39 segundos\n",
      "Tempo para essa configuração:168.50 segundos\n",
      "Tempo para essa configuração:228.77 segundos\n"
     ]
    }
   ],
   "source": [
    "epochs = 300\n",
    "solver = 'sgd'\n",
    "activation = 'relu'\n",
    "config = (10)\n",
    "accuracy_scores, precision_scores, recall_scores, f1_scores = automate_nn_test(config, activation, solver, epochs, x, y, reps = 5, get_train_metrics = True)"
   ]
  },
  {
   "cell_type": "code",
   "execution_count": 125,
   "metadata": {
    "scrolled": true
   },
   "outputs": [
    {
     "name": "stdout",
     "output_type": "stream",
     "text": [
      "As métricas, em média e desvio padrão, para esta configuração do modelo foram:\n",
      "Acurácia média: 0.72+-0.00\n",
      "F1-Score médio: 0.49+-0.01\n"
     ]
    }
   ],
   "source": [
    "print('As métricas, em média e desvio padrão, para esta configuração do modelo foram:\\nAcurácia média: {:.2f}+-{:.2f}\\nF1-Score médio: {:.2f}+-{:.2f}'.format(\n",
    "    np.mean(accuracy_scores), np.std(accuracy_scores), np.mean(f1_scores), np.std(f1_scores)))"
   ]
  },
  {
   "cell_type": "markdown",
   "metadata": {},
   "source": [
    "# Conclusão entre os dois resultados"
   ]
  },
  {
   "cell_type": "raw",
   "metadata": {},
   "source": [
    "Com base nas métricas obtidas, ao utilizar o SGD como solver, a rede não conseguiu convergir, obtendo um resultado muito ruim: 9% de f1-score, ou seja, um resultado pior que um chute (1/7=14.3%)"
   ]
  },
  {
   "cell_type": "markdown",
   "metadata": {},
   "source": [
    "## Discussão\n",
    "\n",
    "Nos passos anteriores, você avaliou o desempenho de uma única rede neural que contém os seguintes parâmetros: uma única camada oculta com 10 neurônios e função de ativação ReLU. O otimizador utilizado, quer seja SGD ou ADAM, trata-se do algoritmo para aproximar o gradiente do erro. Neste sentido, a escolha do otimizador é um hiperparâmetro, pois diz respeito a como a rede neural definida previamente atuará \"em tempo de execução\"  durante o processo de treinamento. Também são hiperparâmetros a quantidade de épocas, a taxa de aprendizado inicial, dentre outros.\n",
    "\n",
    "Cabe salientar também que você efetuou o treinamento desta rede por 100 vezes e apresentou os resultados em termos de média +- desvio padrão. Lembre-se que em uma rede neural há a inicialização aleatória de pesos e, em consequência, o desempenho delas está sujeito à uma flutuação estocástica. A execução destas múltiplas vezes faz com que eliminemos algum viés introduzido por uma boa ou má \"sorte\" na escolha de pesos no caso de uma única execução.\n",
    "\n",
    "Você também aprendeu uma estratégia para escalonar os atributos para uma melhor convergência da rede. Utilize-a em todos os treinamentos e testes propostos a seguir.\n",
    "\n",
    "## Propondo Novas Arquiteturas\n",
    "\n",
    "Variando  os parâmetros (uma ou duas camadas ocultas, com diferente números de neurônios em cada uma delas e a função de ativação) e o hiperparâmetros solver (Adam ou SGD) e o número de épocas (100,150 e 200), atenda ao que se pede:\n",
    "\n",
    "1. Proponha 10 arquiteturas distintas de RNAs para o problema em questão, à sua escolha\n",
    "2. Avalie cada uma das arquiteturas perante todos os hiperparâmetros apresentados por 100 vezes\n",
    "3. Como resultado da avaliação, apresente:  \n",
    "    3.1 Top-3 melhores redes no tocante à F-Score e Acurácia  \n",
    "    3.2 Repetição em que houve o melhor desempenho de cada uma dessas redes: ilustre tp, tf, fp e fn  "
   ]
  },
  {
   "cell_type": "code",
   "execution_count": 51,
   "metadata": {
    "scrolled": true
   },
   "outputs": [
    {
     "name": "stdout",
     "output_type": "stream",
     "text": [
      "Done with first 0\n",
      "Done with first 5\n",
      "Done with first 0\n",
      "Done with first 5\n",
      "Done with first 0\n",
      "Done with first 5\n",
      "Done with first 0\n",
      "Done with first 5\n",
      "Done with first 0\n",
      "Done with first 5\n",
      "Done with first 0\n",
      "Done with first 5\n",
      "Done with first 0\n",
      "Done with first 5\n",
      "Done with first 0\n",
      "Done with first 5\n",
      "Done with first 0\n",
      "Done with first 5\n",
      "Done with first 0\n",
      "Done with first 5\n",
      "Done with first 0\n",
      "Done with first 5\n",
      "Done with first 0\n",
      "Done with first 5\n",
      "Done with first 0\n",
      "Done with first 5\n",
      "Done with first 0\n",
      "Done with first 5\n",
      "Done with first 0\n",
      "Done with first 5\n",
      "Done with first 0\n",
      "Done with first 5\n",
      "Done with first 0\n",
      "Done with first 5\n",
      "Done with first 0\n",
      "Done with first 5\n",
      "Done with first 0\n",
      "Done with first 5\n",
      "Done with first 0\n",
      "Done with first 5\n",
      "Done with first 0\n",
      "Done with first 5\n",
      "Done with first 0\n",
      "Done with first 5\n",
      "Done with first 0\n",
      "Done with first 5\n",
      "Done with first 0\n",
      "Done with first 5\n",
      "Done with first 0\n",
      "Done with first 5\n",
      "Done with first 0\n",
      "Done with first 5\n",
      "Done with first 0\n",
      "Done with first 5\n",
      "Done with first 0\n",
      "Done with first 5\n",
      "Done with first 0\n",
      "Done with first 5\n",
      "Done with first 0\n",
      "Done with first 5\n",
      "Done with first 0\n",
      "Done with first 5\n",
      "Done with first 0\n",
      "Done with first 5\n",
      "Done with first 0\n",
      "Done with first 5\n",
      "Done with first 0\n",
      "Done with first 5\n",
      "Done with first 0\n",
      "Done with first 5\n",
      "Done with first 0\n",
      "Done with first 5\n",
      "Done with first 0\n",
      "Done with first 5\n",
      "Done with first 0\n",
      "Done with first 5\n",
      "Done with first 0\n",
      "Done with first 5\n",
      "Done with first 0\n",
      "Done with first 5\n",
      "Done with first 0\n",
      "Done with first 5\n",
      "Done with first 0\n",
      "Done with first 5\n",
      "Done with first 0\n",
      "Done with first 5\n",
      "Done with first 0\n",
      "Done with first 5\n",
      "Done with first 0\n",
      "Done with first 5\n",
      "Done with first 0\n",
      "Done with first 5\n",
      "Done with first 0\n",
      "Done with first 5\n",
      "Done with first 0\n",
      "Done with first 5\n",
      "Done with first 0\n",
      "Done with first 5\n",
      "Done with first 0\n",
      "Done with first 5\n",
      "Done with first 0\n",
      "Done with first 5\n",
      "Done with first 0\n",
      "Done with first 5\n",
      "Done with first 0\n",
      "Done with first 5\n",
      "Done with first 0\n",
      "Done with first 5\n",
      "Done with first 0\n",
      "Done with first 5\n",
      "Done with first 0\n",
      "Done with first 5\n",
      "Done with first 0\n",
      "Done with first 5\n",
      "Done with first 0\n",
      "Done with first 5\n",
      "Done with first 0\n",
      "Done with first 5\n",
      "Done with first 0\n",
      "Done with first 5\n"
     ]
    }
   ],
   "source": [
    "#temos a disposição 4 funções de ativação: 'identity', 'logistic', 'tanh', 'relu'. Faremos uma distribuição entre elas com as configurações\n",
    "configs = {\n",
    "    (10, 2): ['relu', 'tanh', 'identity', 'logistic'],\n",
    "    (5): ['relu', 'tanh', 'identity', 'logistic'],\n",
    "    (10): ['tanh', 'identity']\n",
    "}\n",
    "solvers = ['adam', 'sgd']\n",
    "epochs_configs = [100, 150, 200]\n",
    "metrics = dict() \n",
    "#Cada chave será composta por uma tupla da seguinte forma: (config, activation, solver, epochs).\n",
    "#Cada valor será uma lista contendo o f_score médio e a acurácia média, além da matriz de confusão média de cada teste\n",
    "\n",
    "#loop entre todas as configurações\n",
    "for epochs in epochs_configs:\n",
    "    for solver in solvers:\n",
    "        for config in configs.keys():\n",
    "            for activation in configs[config]:\n",
    "                acc, _, _, f1, cm = automate_nn_test(config, activation, solver, epochs,  x, y, reps = 10, return_cm=True)\n",
    "                metrics[(config, activation, solver, epochs)] = [np.mean(acc), np.mean(f1), cm]"
   ]
  },
  {
   "cell_type": "code",
   "execution_count": 62,
   "metadata": {},
   "outputs": [],
   "source": [
    "f = open(\"metrics_dict_0.pkl\",\"wb\")\n",
    "pickle.dump(metrics,f)\n",
    "f.close()"
   ]
  },
  {
   "cell_type": "code",
   "execution_count": 129,
   "metadata": {},
   "outputs": [],
   "source": [
    "# f = open(\"metrics_dict.pkl\", \"rb\")\n",
    "# metrics = pickle.load(f)\n",
    "# f.close()"
   ]
  },
  {
   "cell_type": "code",
   "execution_count": 62,
   "metadata": {},
   "outputs": [
    {
     "name": "stdout",
     "output_type": "stream",
     "text": [
      "[43 21 41] [ 8 28 48]\n"
     ]
    }
   ],
   "source": [
    "top3_acc = np.argpartition(np.array(list(metrics.values()))[:, 0], -3)[-3:]\n",
    "top3_fscr = np.argpartition(np.array(list(metrics.values()))[:, 1], -3)[-3:]\n",
    "print(top3_acc, top3_fscr) #o top 3 é diferente para as duas métricas."
   ]
  },
  {
   "cell_type": "code",
   "execution_count": 63,
   "metadata": {},
   "outputs": [
    {
     "name": "stdout",
     "output_type": "stream",
     "text": [
      "[28  8 48]\n"
     ]
    }
   ],
   "source": [
    "#fazendo uma média entre as métricas, temos\n",
    "top3_mean = np.argpartition((np.array(list(metrics.values()))[:, 0] + np.array(list(metrics.values()))[:, 1])/2, -3)[-3:]\n",
    "print(top3_mean) #isto mostra que o fscore mostra-se uma métrica mais consistente para avaliar os resultados."
   ]
  },
  {
   "cell_type": "code",
   "execution_count": 91,
   "metadata": {},
   "outputs": [
    {
     "name": "stdout",
     "output_type": "stream",
     "text": [
      "Configurações com melhor F-Score médio:\n",
      "------------------------------------------------\n",
      "(hidden_layers, activation, solver, epochs) -> F-Score, Acurácia\n",
      "------------------------------------------------\n",
      "(10, 'tanh', 'adam', 100) -> 0.509932, 0.721072\n",
      "(10, 'tanh', 'adam', 150) -> 0.510309, 0.720626\n",
      "(10, 'tanh', 'adam', 200) -> 0.526772, 0.720827\n"
     ]
    }
   ],
   "source": [
    "top3_configs = np.array(list(metrics.keys()))[top3_fscr]\n",
    "print(\"Configurações com melhor F-Score médio:\")\n",
    "print(\"------------------------------------------------\")\n",
    "print(\"(hidden_layers, activation, solver, epochs) -> F-Score, Acurácia\")\n",
    "print(\"------------------------------------------------\")\n",
    "for c in top3_configs:\n",
    "    c = tuple(c)\n",
    "    print('{} -> {:4f}, {:4f}'.format(c, metrics[c][1], metrics[c][0]))"
   ]
  },
  {
   "cell_type": "code",
   "execution_count": 107,
   "metadata": {},
   "outputs": [
    {
     "data": {
      "text/plain": [
       "(7.5, -0.5)"
      ]
     },
     "execution_count": 107,
     "metadata": {},
     "output_type": "execute_result"
    },
    {
     "data": {
      "image/png": "[encoded data removed]",
      "text/plain": [
       "<Figure size 576x576 with 2 Axes>"
      ]
     },
     "metadata": {
      "needs_background": "light"
     },
     "output_type": "display_data"
    }
   ],
   "source": [
    "#matriz de confusão da repetição com o melhor resultado -> (10, 'tanh', 'adam', 200)\n",
    "fig, ax = plt.subplots(figsize=(8,8))\n",
    "# ax = sns.heatmap(cf_matrix, annot=True, cmap='Blues')\n",
    "ax = sns.heatmap(metrics[list(metrics.keys())[top3_fscr[2]]][2]*10, annot=True, cmap='Blues')\n",
    "bottom, top = ax.get_ylim()\n",
    "ax.set_ylim(bottom + 0.5, top - 0.5)\n",
    "#analisando esta matriz de confusão em relação ao primeiro teste, é notável a semelhança, considerando que a única mudança é justamente a função de ativação."
   ]
  },
  {
   "cell_type": "markdown",
   "metadata": {},
   "source": [
    "## Estimando o número de neurônios\n",
    "\n",
    "Um dos problemas de pesquisa com redes neurais artificiais consiste na determinação do número de neurônios em sua arquitetura. Embora não seja possível definir a priori qual rede neural é adequada para um problema, pois isto só é possível mediante uma busca exaustiva, há regras na literatura que sugerem o número de neurônios escondidos, tal como a regra da Pirâmide Geométrica, dada a seguir:\n",
    "\n",
    "$$N_h = \\alpha \\cdot \\sqrt{N_i \\cdot N_o},$$\n",
    "\n",
    "em que $N_h$ é o número de neurônios ocultos (a serem distribuídos em uma ou duas camadas ocultas), $N_i$ é o número de neurônios na camada de entrada e $N_o$ é o número de neurônios na camada de saída. \n",
    "\n",
    "1. Consulte a documentação da classe MLPClassifier (disponível em https://scikit-learn.org/stable/modules/generated/sklearn.neural_network.MLPClassifier.html) e obtenha os valores de $N_i$ e $N_h$.\n",
    "2. Teste os valores de $\\alpha$ como sendo iguais a $0.5$, $2$ e $3$.\n",
    "3. Proponha pelo menos 30 redes neurais segundo a regra da pirâmide geométrica e teste-as nos mesmos termos estabelecidos anterioremente  (solver, épocas, etc.)  \n",
    "    3.1 Apresente as top-3 melhores redes no tocante à F-Score e Acurácia  "
   ]
  },
  {
   "cell_type": "code",
   "execution_count": 7,
   "metadata": {},
   "outputs": [
    {
     "name": "stdout",
     "output_type": "stream",
     "text": [
      "No: 7\n",
      "Ni: 11\n",
      "[4, 17, 26]\n"
     ]
    }
   ],
   "source": [
    "No = len(df.groupby('Cover_Type'))\n",
    "Ni = len(df_nocat.columns)\n",
    "\n",
    "print(\"No: \" + str(No))\n",
    "print(\"Ni: \" + str(Ni))\n",
    "\n",
    "def get_hidden_layers_size(input_size, output_size, alpha):\n",
    "    return int(alpha * ((input_size * output_size) ** (1/2)))\n",
    "\n",
    "alphas = [0.5, 2, 3]\n",
    "\n",
    "Nhs = [get_hidden_layers_size(Ni, No, a) for a in alphas]\n",
    "print(Nhs)"
   ]
  },
  {
   "cell_type": "code",
   "execution_count": 8,
   "metadata": {},
   "outputs": [],
   "source": [
    "#ocorreu um problema durante o treinamento inicial, no qual após 20 configurações meu pc desligou. Vou precisar reduzir de 30 para 20 para entregar a tempo\n",
    "#Nh=4\n",
    "configs_4 = [(4), (3, 1), (2, 2), (1, 3)]#4\n",
    "#Nh17\n",
    "configs_17 = [(10, 7), (7, 10), (17), (1, 16), (16, 1), (8, 9), (3, 14), (14, 3)]#8\n",
    "#Nh26\n",
    "configs_26 = [(26), (13, 13), (1, 25), (25, 1), (10, 16), (16, 10), (20, 6), (6, 20)]#8"
   ]
  },
  {
   "cell_type": "code",
   "execution_count": 9,
   "metadata": {
    "scrolled": true
   },
   "outputs": [
    {
     "name": "stdout",
     "output_type": "stream",
     "text": [
      "(1, 3)\n",
      "Tempo para essa configuração:77.06 segundos\n",
      "Tempo para essa configuração:69.89 segundos\n",
      "Tempo para essa configuração:123.54 segundos\n",
      "Tempo para essa configuração:105.19 segundos\n",
      "Tempo para essa configuração:69.49 segundos\n",
      "(10, 7)\n",
      "Tempo para essa configuração:236.55 segundos\n",
      "Tempo para essa configuração:319.41 segundos\n",
      "Tempo para essa configuração:237.02 segundos\n",
      "Tempo para essa configuração:237.40 segundos\n",
      "Tempo para essa configuração:236.03 segundos\n",
      "(7, 10)\n",
      "Tempo para essa configuração:236.85 segundos\n",
      "Tempo para essa configuração:238.19 segundos\n",
      "Tempo para essa configuração:238.18 segundos\n",
      "Tempo para essa configuração:196.15 segundos\n",
      "Tempo para essa configuração:235.45 segundos\n",
      "17\n",
      "Tempo para essa configuração:197.61 segundos\n",
      "Tempo para essa configuração:198.66 segundos\n",
      "Tempo para essa configuração:197.79 segundos\n",
      "Tempo para essa configuração:199.14 segundos\n",
      "Tempo para essa configuração:198.58 segundos\n",
      "Todas configurações para Nh = 4 treinadas e avaliadas.\n",
      "(1, 16)\n",
      "Tempo para essa configuração:132.12 segundos\n",
      "Tempo para essa configuração:87.34 segundos\n",
      "Tempo para essa configuração:146.30 segundos\n",
      "Tempo para essa configuração:162.89 segundos\n",
      "Tempo para essa configuração:160.24 segundos\n",
      "(16, 1)\n",
      "Tempo para essa configuração:213.18 segundos\n",
      "Tempo para essa configuração:211.96 segundos\n",
      "Tempo para essa configuração:213.70 segundos\n",
      "Tempo para essa configuração:212.12 segundos\n",
      "Tempo para essa configuração:211.92 segundos\n",
      "(8, 9)\n",
      "Tempo para essa configuração:231.66 segundos\n",
      "Tempo para essa configuração:230.94 segundos\n",
      "Tempo para essa configuração:230.46 segundos\n",
      "Tempo para essa configuração:230.22 segundos\n",
      "Tempo para essa configuração:231.66 segundos\n",
      "(3, 14)\n",
      "Tempo para essa configuração:230.19 segundos\n",
      "Tempo para essa configuração:105.24 segundos\n",
      "Tempo para essa configuração:230.15 segundos\n",
      "Tempo para essa configuração:230.42 segundos\n",
      "Tempo para essa configuração:231.31 segundos\n",
      "(14, 3)\n",
      "Tempo para essa configuração:231.07 segundos\n",
      "Tempo para essa configuração:229.14 segundos\n",
      "Tempo para essa configuração:231.60 segundos\n",
      "Tempo para essa configuração:230.82 segundos\n",
      "Tempo para essa configuração:204.40 segundos\n",
      "26\n",
      "Tempo para essa configuração:196.70 segundos\n",
      "Tempo para essa configuração:185.81 segundos\n",
      "Tempo para essa configuração:185.94 segundos\n",
      "Tempo para essa configuração:185.16 segundos\n",
      "Tempo para essa configuração:196.62 segundos\n",
      "(13, 13)\n",
      "Tempo para essa configuração:220.72 segundos\n",
      "Tempo para essa configuração:223.65 segundos\n",
      "Tempo para essa configuração:223.17 segundos\n",
      "Tempo para essa configuração:223.75 segundos\n",
      "Tempo para essa configuração:222.05 segundos\n",
      "(1, 25)\n",
      "Tempo para essa configuração:154.13 segundos\n",
      "Tempo para essa configuração:71.09 segundos\n",
      "Tempo para essa configuração:144.68 segundos\n",
      "Tempo para essa configuração:158.20 segundos\n",
      "Tempo para essa configuração:141.65 segundos\n",
      "(25, 1)\n",
      "Tempo para essa configuração:196.81 segundos\n",
      "Tempo para essa configuração:196.20 segundos\n",
      "Tempo para essa configuração:196.85 segundos\n",
      "Tempo para essa configuração:196.30 segundos\n",
      "Tempo para essa configuração:196.81 segundos\n",
      "(10, 16)\n",
      "Tempo para essa configuração:219.40 segundos\n",
      "Tempo para essa configuração:219.80 segundos\n",
      "Tempo para essa configuração:219.96 segundos\n",
      "Tempo para essa configuração:218.18 segundos\n",
      "Tempo para essa configuração:218.39 segundos\n",
      "(16, 10)\n",
      "Tempo para essa configuração:222.89 segundos\n",
      "Tempo para essa configuração:222.87 segundos\n",
      "Tempo para essa configuração:223.87 segundos\n",
      "Tempo para essa configuração:223.03 segundos\n",
      "Tempo para essa configuração:222.58 segundos\n",
      "(20, 6)\n",
      "Tempo para essa configuração:218.90 segundos\n",
      "Tempo para essa configuração:216.31 segundos\n",
      "Tempo para essa configuração:217.12 segundos\n",
      "Tempo para essa configuração:216.72 segundos\n",
      "Tempo para essa configuração:216.54 segundos\n",
      "(6, 20)\n",
      "Tempo para essa configuração:218.42 segundos\n",
      "Tempo para essa configuração:217.64 segundos\n",
      "Tempo para essa configuração:216.76 segundos\n",
      "Tempo para essa configuração:215.18 segundos\n",
      "Tempo para essa configuração:217.26 segundos\n",
      "Todas configurações para Nh = 17 treinadas e avaliadas.\n"
     ]
    }
   ],
   "source": [
    "#Considerando os resultados da seção anterior, temos os seguintes hiperparametros:\n",
    "solver = 'adam'\n",
    "epochs = 200\n",
    "activation = 'tanh'\n",
    "configs = configs_4+configs_17+configs_26\n",
    "piramide_metrics = dict()\n",
    "\n",
    "index = 0 #apenas para acompanhamento\n",
    "for config in configs:\n",
    "    print(config)\n",
    "    a, _, _, f = automate_nn_test(config, activation, solver, epochs, x, y, reps = 5)\n",
    "    piramide_metrics[config] = (a, f)\n",
    "    index+=1\n",
    "    if index == 4:\n",
    "        print('Todas configurações para Nh = 4 treinadas e avaliadas.')\n",
    "    elif index == 17:  \n",
    "        print('Todas configurações para Nh = 17 treinadas e avaliadas.')\n",
    "    elif index == 30:\n",
    "        print('Todas configurações para Nh = 30 treinadas e avaliadas.')"
   ]
  },
  {
   "cell_type": "code",
   "execution_count": 41,
   "metadata": {},
   "outputs": [],
   "source": [
    "for k in list(piramide_metrics.keys()):\n",
    "    piramide_metrics[k] = ((np.mean(piramide_metrics[k][0]), np.mean(piramide_metrics[k][1])))"
   ]
  },
  {
   "cell_type": "code",
   "execution_count": 95,
   "metadata": {
    "scrolled": true
   },
   "outputs": [],
   "source": [
    "f = open(\"piramide_metrics_dict.pkl\",\"wb\")\n",
    "pickle.dump(piramide_metrics,f)\n",
    "f.close()"
   ]
  },
  {
   "cell_type": "code",
   "execution_count": 43,
   "metadata": {},
   "outputs": [
    {
     "name": "stdout",
     "output_type": "stream",
     "text": [
      "[15 14 10]\n",
      "[10 14  9]\n"
     ]
    }
   ],
   "source": [
    "#utilizando o mesmo processo do passo anterior\n",
    "top3_acc = np.argpartition(np.array(list(piramide_metrics.values()))[:, 0], -3)[-3:]\n",
    "top3_fscr = np.argpartition(np.array(list(piramide_metrics.values()))[:, 1], -3)[-3:]\n",
    "print(top3_acc)\n",
    "print(top3_fscr) #o top 3 é diferente para as duas métricas."
   ]
  },
  {
   "cell_type": "code",
   "execution_count": 45,
   "metadata": {},
   "outputs": [
    {
     "name": "stdout",
     "output_type": "stream",
     "text": [
      "[10 14  9]\n"
     ]
    }
   ],
   "source": [
    "#fazendo uma média entre as métricas, temos\n",
    "top3_mean = np.argpartition((np.array(list(piramide_metrics.values()))[:, 0] + np.array(list(piramide_metrics.values()))[:, 1])/2, -3)[-3:]\n",
    "print(top3_mean) #novamente os resultados baseando-se no f-score se mostra mais consistente"
   ]
  },
  {
   "cell_type": "code",
   "execution_count": 57,
   "metadata": {},
   "outputs": [
    {
     "name": "stdout",
     "output_type": "stream",
     "text": [
      "Configurações com melhor F-Score médio:\n",
      "------------------------------------------------\n",
      "(solver, hidden_layers, epochs) -> F-Score, Acurácia\n",
      "------------------------------------------------\n",
      "(adam, (13, 13), 200) -> 0.591197, 0.757321\n",
      "(adam, (16, 10), 200) -> 0.595657, 0.757299\n",
      "(adam, 26, 200) -> 0.601572, 0.751422\n"
     ]
    }
   ],
   "source": [
    "top3_configs = np.array(list(piramide_metrics.keys()))[top3_fscr]\n",
    "print(\"Configurações com melhor F-Score médio:\")\n",
    "print(\"------------------------------------------------\")\n",
    "print(\"(solver, hidden_layers, epochs) -> F-Score, Acurácia\")\n",
    "print(\"------------------------------------------------\")\n",
    "for c in top3_configs:\n",
    "    print('({}, {}, {}) -> {:4f}, {:4f}'.format(solver, c, epochs, piramide_metrics[c][1], piramide_metrics[c][0]))"
   ]
  },
  {
   "cell_type": "raw",
   "metadata": {},
   "source": [
    "Ao analisar as configurações da rede com os melhores resultados, é possível perceber que todas são oriundas do cálculo para alpha = 3"
   ]
  },
  {
   "cell_type": "markdown",
   "metadata": {},
   "source": [
    "## Testando as Redes Neurais com Atributos Categóricos\n",
    "\n",
    "1. Considere as 6 redes neurais obtidas nos dois top-3 anteriores (arquiteturas próprias e regra da pirâmide geométrica)\n",
    "2. Com todos os atributos preditores da base de dados original, incluindo os categóricos, treine e teste estas mesmas redes por 100 repetições  \n",
    "    2.1 Considere o melhor otimizador para cada uma delas  \n",
    "    2.2 Faça uso de 200 épocas para treinamento  \n",
    "    2.2 Apresente os resultados de acurácia e F-Score em termos da média +- dp para cada arquitetura\n",
    "3. Apresente o gráfico boxplot para o F-Score das 6 arquiteturas perante as 100 repetições"
   ]
  },
  {
   "cell_type": "code",
   "execution_count": 99,
   "metadata": {},
   "outputs": [
    {
     "name": "stdout",
     "output_type": "stream",
     "text": [
      "Configurações Manuais\n",
      "Config: (10, 'tanh', 'adam')\n",
      "Tempo para essa configuração:142.94 segundos\n",
      "Tempo para essa configuração:152.89 segundos\n",
      "Tempo para essa configuração:170.99 segundos\n",
      "Tempo para essa configuração:186.12 segundos\n",
      "Tempo para essa configuração:186.92 segundos\n",
      "Configurações da Piramide Geométrica\n",
      "Config: ((13, 13), 'tanh', 'adam')\n",
      "Tempo para essa configuração:256.86 segundos\n",
      "Tempo para essa configuração:256.60 segundos\n",
      "Tempo para essa configuração:255.81 segundos\n",
      "Tempo para essa configuração:255.67 segundos\n",
      "Tempo para essa configuração:256.19 segundos\n",
      "Config: ((16, 10), 'tanh', 'adam')\n",
      "Tempo para essa configuração:256.87 segundos\n",
      "Tempo para essa configuração:255.23 segundos\n",
      "Tempo para essa configuração:254.72 segundos\n",
      "Tempo para essa configuração:255.21 segundos\n",
      "Tempo para essa configuração:259.15 segundos\n",
      "Config: (26, 'tanh', 'adam')\n",
      "Tempo para essa configuração:218.73 segundos\n",
      "Tempo para essa configuração:218.81 segundos\n",
      "Tempo para essa configuração:218.36 segundos\n",
      "Tempo para essa configuração:218.21 segundos\n",
      "Tempo para essa configuração:220.61 segundos\n"
     ]
    }
   ],
   "source": [
    "# Configurações para os dois top 3 (hidden_layers, solver, epochs)\n",
    "top = [(10, 'tanh', 'adam', 100), (10, 'tanh', 'adam', 150), (10, 'tanh', 'adam', 200)]\n",
    "top_pyramid = [((13, 13), 'adam', 200), ((16, 10), 'adam', 200), ((26), 'adam', 200)]\n",
    "\n",
    "all_x = df.drop(['Cover_Type'], axis = 1)\n",
    "all_y = df['Cover_Type']\n",
    "\n",
    "metrics_ = []\n",
    "piramide_metrics_ = []\n",
    "print('Configurações Manuais')\n",
    "#Como todas as configurações são iguais, tirando o numero de epocas e como a instrução indica o número de épocas em 200, fica redundante treinar as 3 configurações\n",
    "for hidden_layers, activation, solver, epochs in top[:1]:\n",
    "    print('Config: {}'.format((hidden_layers, activation, solver)))\n",
    "    a,p,r,f = automate_nn_test(hidden_layers, activation, solver, 200, all_x, all_y, reps = 5)\n",
    "    metrics_.append((a,p,r,f))\n",
    "    \n",
    "\n",
    "print('Configurações da Piramide Geométrica')\n",
    "for hidden_layers, solver, epochs in top_pyramid:\n",
    "    print('Config: {}'.format((hidden_layers, activation, solver)))\n",
    "    a,p,r,f = automate_nn_test(hidden_layers, activation, solver, 200, all_x, all_y, reps = 5)\n",
    "    piramide_metrics_.append((a,p,r,f))\n",
    "    "
   ]
  },
  {
   "cell_type": "code",
   "execution_count": 105,
   "metadata": {},
   "outputs": [
    {
     "name": "stdout",
     "output_type": "stream",
     "text": [
      "Arquiteturas próprias:\n",
      "-------------------------------------------------\n",
      "Camadas ocultas : Acurácia média ; F-Score médio\n",
      "-------------------------------------------------\n",
      "10: 0.77+-0.00 ; 0.59+-0.02\n",
      "\n",
      "\n",
      "Arquiteturas seguindo pirâmide geométrica:\n",
      "-------------------------------------------------\n",
      "Camadas ocultas : Acurácia média ; F-Score médio\n",
      "-------------------------------------------------\n",
      "(13, 13): 0.80+-0.00 ; 0.68+-0.01\n",
      "(16, 10): 0.81+-0.00 ; 0.68+-0.01\n",
      "26: 0.82+-0.00 ; 0.71+-0.01\n"
     ]
    }
   ],
   "source": [
    "print(\"Arquiteturas próprias:\")\n",
    "print(\"-------------------------------------------------\")\n",
    "print(\"Camadas ocultas : Acurácia média ; F-Score médio\")\n",
    "print(\"-------------------------------------------------\")\n",
    "\n",
    "for (hidden_layers, activation, solver, epochs), (a, p, r, f) in zip(top, metrics_):\n",
    "    print('{}: {:.2f}+-{:.2f} ; {:.2f}+-{:.2f}'.format(hidden_layers, np.mean(a), np.std(a), np.mean(f), np.std(f)))\n",
    "\n",
    "print(\"\\n\\nArquiteturas seguindo pirâmide geométrica:\")\n",
    "print(\"-------------------------------------------------\")\n",
    "print(\"Camadas ocultas : Acurácia média ; F-Score médio\")\n",
    "print(\"-------------------------------------------------\")\n",
    "\n",
    "for (hidden_layers, solver, epochs), (a, p, r, f) in zip(top_pyramid, piramide_metrics_):\n",
    "    print('{}: {:.2f}+-{:.2f} ; {:.2f}+-{:.2f}'.format(hidden_layers, np.mean(a), np.std(a), np.mean(f), np.std(f)))"
   ]
  },
  {
   "cell_type": "code",
   "execution_count": 116,
   "metadata": {},
   "outputs": [],
   "source": [
    "positions = [i for i in range(0, 3 * 2, 2)]\n",
    "positions_pyramid = [p + 1 for p in positions]"
   ]
  },
  {
   "cell_type": "code",
   "execution_count": 123,
   "metadata": {},
   "outputs": [
    {
     "data": {
      "text/plain": [
       "<matplotlib.legend.Legend at 0x1c701ec0100>"
      ]
     },
     "execution_count": 123,
     "metadata": {},
     "output_type": "execute_result"
    },
    {
     "data": {
      "image/png": "[encoded data removed]",
      "text/plain": [
       "<Figure size 1152x720 with 1 Axes>"
      ]
     },
     "metadata": {
      "needs_background": "light"
     },
     "output_type": "display_data"
    }
   ],
   "source": [
    "# Boxplot das métricas\n",
    "\n",
    "f_scores = [f for (a,p,r,f) in metrics_]\n",
    "f_scores_pyramid = [f for (a,p,r,f) in piramide_metrics_]\n",
    "\n",
    "def interpolate(list_a, list_b):\n",
    "    res = []\n",
    "    for a,b in zip(list_a, list_b):\n",
    "        res.append(a)\n",
    "        res.append(b)\n",
    "    return res\n",
    "\n",
    "label_list = [str(h) for (h,a,s,e) in top[:1]]\n",
    "label_list_pyramid = [str(h) for (h,s,e) in top_pyramid]\n",
    "\n",
    "positions = [i for i in range(0, len(label_list) * 2, 2)]\n",
    "positions_pyramid = [p for p in range(1, len(label_list_pyramid)*2, 2)]\n",
    "\n",
    "plt.figure(figsize=(16,10))\n",
    "plt.xlabel('F-Score', fontsize=12)\n",
    "plt.ylabel('Arquitetura',fontsize=12)\n",
    "\n",
    "box_props = dict(color='orange')\n",
    "bx1 = plt.boxplot(f_scores, labels=label_list, positions=positions, vert=False, boxprops=box_props)\n",
    "\n",
    "box_props = dict(color='purple')\n",
    "bx2 = plt.boxplot(f_scores_pyramid, labels=label_list_pyramid, positions=positions_pyramid, vert=False, boxprops=box_props)\n",
    "\n",
    "plt.legend(['Arquitetura própria', 'Seguindo regra da pirâmide'])"
   ]
  },
  {
   "cell_type": "markdown",
   "metadata": {},
   "source": [
    "## Considerações Parciais\n",
    "\n",
    "1. É possível identificar uma rede com desempenho superior às demais?\n",
    "2. Qual estratégia mostrou-se mais producente para a obtenção de boas arquiteturas (Estratégia Própria ou Pirâmide Geométrica)? Por quê?\n",
    "3. Considerar os atributos categóricos trouxe melhorias? Justifique.\n",
    "4. Um número maior de épocas trouxe melhorias?\n",
    "5. Qual a maior dificuldade de resolução do problema proposto perante as RNAs?"
   ]
  },
  {
   "cell_type": "markdown",
   "metadata": {},
   "source": [
    "1. Sim é possível, tanto utilizando todos os atributos, quanto ao descartar os atributos categóricos, a rede com a seguinte configuração: (26, 'tanh', 'adam') obteve resultados superiores, tanto em acurácia quanto em f-score\n",
    "\n",
    "2. A pirâmide geométrica se mostrou mais eficaz no geral também, obtendo resultados que superam consideravelmente as arquiteturas propostas anteriormente. Inclusive os resultados utlilizando essa estratégia também possuem variação menor quando se akt\n",
    "\n",
    "3. Trouxe melhorias para ambas abordagens, sendo que foi possível obter a maior métrica dentre todos os outros testes. Manteve os mesmos padrões de desempenho dos outros testes, no qual a arquitetura obtida a partir da regra da pirâmide geométrica obteve o melhor resultado.\n",
    "\n",
    "4. Aumentar o número de épocas, nos testes onde esse número era variado, não mostrou de forma conclusiva se afetava ou não. Ao analisar os resultados desta etapa, é possível perceber que as 3 melhores arquiteturas propostas tinham as mesmas configurações, em relação à disposição das camadas ocultas, função de ativação e solver, variando apenas a quantidade de épocas, entre 100, 150 e 200, sendo que a com maior quantidade de épocas foi a que obteve os melhores resultados. Isso pode implicar que aumentar a quantidade de épocas melhorou o resultado, porém pode simplesmente ser que os resultados melhores adviram da arquitetura que estava melhor. Portanto veremos o top 10 arquiteturas para avaliar a influência deste hiper parâmetro no resultado."
   ]
  },
  {
   "cell_type": "code",
   "execution_count": 141,
   "metadata": {
    "scrolled": true
   },
   "outputs": [
    {
     "name": "stdout",
     "output_type": "stream",
     "text": [
      "[31 23 51  1 28 48  8 43 21 41] [24 40  1 41 21 58 38  8 28 48]\n",
      "\n",
      "Épocas para os top 10 resultados\n",
      "200\n",
      "150\n",
      "100\n",
      "150\n",
      "200\n",
      "150\n",
      "200\n",
      "100\n",
      "200\n",
      "150\n"
     ]
    },
    {
     "data": {
      "text/plain": [
       "(array([100, 150, 200]), array([2, 4, 4], dtype=int64))"
      ]
     },
     "execution_count": 141,
     "metadata": {},
     "output_type": "execute_result"
    }
   ],
   "source": [
    "top = 10\n",
    "top3_acc = np.argpartition(np.array(list(metrics.values()))[:, 0], -top)[-top:]\n",
    "top3_fscr = np.argpartition(np.array(list(metrics.values()))[:, 1], -top)[-top:]\n",
    "print(top3_acc, top3_fscr) #o top 3 é diferente para as duas métricas.\n",
    "top3_configs = np.array(list(metrics.keys()))[top3_fscr]\n",
    "print('\\nÉpocas para os top 10 resultados')\n",
    "epk = []\n",
    "for c in top3_configs[::-1]:\n",
    "    c = tuple(c)\n",
    "    print('{}'.format(c[3]))\n",
    "    epk.append(c[3])\n",
    "np.unique(epk, return_counts=True)"
   ]
  },
  {
   "cell_type": "markdown",
   "metadata": {},
   "source": [
    "4. Após avaliar mais a fundo, é possível perceber uma tendência de melhores resultados envolverem maiores quantidades de épocas, porém não é uma evidência forte o suficiente para garantir que aumentar as épocas necessariamente melhoraria o desempenho da rede.\n",
    "\n",
    "5. Com base em algumas análises feitas na parte 3.2 do projeto prático, é possível perceber que para os atributos categóricos há um desbalanceamento entre as classes. Há também uma presença bem grande de outliers em vários dos atributos numéricos, o que possivelmente dificulta o processo de aprendizagem e generalização da rede."
   ]
  }
 ],
 "metadata": {
  "kernelspec": {
   "display_name": "Python 3",
   "language": "python",
   "name": "python3"
  },
  "language_info": {
   "codemirror_mode": {
    "name": "ipython",
    "version": 3
   },
   "file_extension": ".py",
   "mimetype": "text/x-python",
   "name": "python",
   "nbconvert_exporter": "python",
   "pygments_lexer": "ipython3",
   "version": "3.8.3"
  }
 },
 "nbformat": 4,
 "nbformat_minor": 4
}
