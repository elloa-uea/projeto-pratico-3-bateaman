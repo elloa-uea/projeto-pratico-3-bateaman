{
 "cells": [
  {
   "cell_type": "markdown",
   "metadata": {},
   "source": [
    "# Redes Neurais Artificiais 2020.1 -- Projeto Prático 3.4\n",
    "\n",
    "**Disciplina**: Redes Neurais Artificiais 2020.1  \n",
    "**Professora**: Elloá B. Guedes (ebgcosta@uea.edu.br)  \n",
    "**Github**: http://github.com/elloa  \n",
    "        \n",
    "\n",
    "Levando em conta a base de dados **_Forest Cover Type_**, esta terceira parte do Projeto Prático 3 diz respeito à proposição e avaliação de múltiplas redes neurais artificiais do tipo feedforward multilayer perceptron para o problema da classificação multi-classe da cobertura florestal em uma área do Roosevelt National Forest.\n",
    "\n",
    "## Busca em Grade\n",
    "\n",
    "Uma maneira padrão de escolher os parâmetros de um modelo de Machine Learning é por meio de uma busca em grade via força bruta. O algoritmo da busca em grade é dado como segue:\n",
    "\n",
    "1. Escolha a métrica de desempenho que você deseja maximizar  \n",
    "2. Escolha o algoritmo de Machine Learning (exemplo: redes neurais artificiais). Em seguida, defina os parâmetros ou hiperparâmetros deste tipo de modelo sobre os quais você dseja otimizar (número de épocas, taxa de aprendizado, etc.) e construa um array de valores a serem testados para cada parâmetro ou hiperparâmetro.  \n",
    "3. Defina a grade de busca, a qual é dada como o produto cartesiano de cada parâmetro a ser testado. Por exemplo, para os arrays [50, 100, 1000] e [10, 15], tem-se que a grade é [(50,10), (50,15), (100,10), (100,15), (1000,10), (1000,15)].\n",
    "4. Para cada combinação de parâmetros a serem otimizados, utilize o conjunto de treinamento para realizar uma validação cruzada (holdout ou k-fold) e calcule a métrica de avaliação no conjunto de teste (ou conjuntos de teste)\n",
    "5. Escolha a combinação de parâmetros que maximizam a métrica de avaliação. Este é o modelo otimizado.\n",
    "\n",
    "Por que esta abordagem funciona? Porque a busca em grade efetua uma pesquisa extensiva sobre as possíveis combinações de valores para cada um dos parâmetros a serem ajustados. Para cada combinação, ela estima a performance do modelo em dados novos. Por fim, o modelo com melhor métrica de desempenho é escolhido. Tem-se então que este modelo é o que melhor pode vir a generalizar mediante dados nunca antes vistos.\n",
    "\n",
    "## Efetuando a Busca em Grade sobre Hiperparâmetros das Top-6 RNAs\n",
    "\n",
    "Considerando a etapa anterior do projeto prático, foram identificadas pelo menos 6 melhores Redes Neurais para o problema da classificação multi-classe da cobertura florestal no conjunto de dados selecionado. Algumas destas redes possuem atributos categóricos como variáveis preditoras, enquanto outras possuem apenas os atributos numéricos como preditores.\n",
    "\n",
    "A primeira etapa desta segunda parte do projeto consiste em trazer para este notebook estas seis arquiteturas, ressaltando:\n",
    "\n",
    "1. Número de neurônios ocultos por camada  \n",
    "2. Função de Ativação  \n",
    "3. Utilização ou não de atributos categóricos   \n",
    "4. Desempenho médio +- desvio padrão nos testes anteriores  \n",
    "5. Número de repetições que a equipe conseguiu realizar para verificar os resultados  \n",
    "\n",
    "Elabore uma busca em grade sobre estas arquiteturas que contemple variações nos hiperparâmetros a seguir, conforme documentação de [MLPClassifier](https://scikit-learn.org/stable/modules/generated/sklearn.neural_network.MLPClassifier.html)\n",
    "\n",
    "A. Solver  (Não usar o LBFGS, pois é mais adequado para datasets pequenos)  \n",
    "B. Batch Size  \n",
    "C. Learning Rate Init  \n",
    "D. Paciência (n_iter_no_change)  \n",
    "E. Épocas  \n",
    "\n",
    "Nesta busca em grande, contemple a utilização do objeto [GridSearchCV](https://scikit-learn.org/stable/modules/generated/sklearn.model_selection.GridSearchCV.html)"
   ]
  },
  {
   "cell_type": "markdown",
   "metadata": {},
   "source": [
    "## Validação Cruzada k-fold\n",
    "\n",
    "Na elaboração da busca em grid, vamos avaliar os modelos propostos segundo uma estratégia de validação cruzada ainda não explorada até o momento: a validação cruzada k-fold. Segundo a mesma, o conjunto de dados é particionado em k partes: a cada iteração, separa-se uma das partes para teste e o modelo é treinado com as k-1 partes remanescentes. Valores sugestivos de k na literatura são k = 3, 5 ou 10, pois o custo computacional desta validação dos modelos é alto. A métrica de desempenho é resultante da média dos desempenhos nas k iterações. A figura a seguir ilustra a ideia desta avaliação\n",
    "\n",
    "<img src = \"https://ethen8181.github.io/machine-learning/model_selection/img/kfolds.png\" width=600></img>\n",
    "\n",
    "Considerando a métrica de desempenho F1-Score, considere a validação cruzada 5-fold para aferir os resultados da busca em grande anterior."
   ]
  },
  {
   "cell_type": "code",
   "execution_count": 15,
   "metadata": {},
   "outputs": [],
   "source": [
    "# Começando com os imports\n",
    "import numpy as np\n",
    "import pandas as pd\n",
    "from matplotlib import pyplot as plt\n",
    "import sklearn\n",
    "from sklearn.neural_network import MLPClassifier\n",
    "from sklearn.metrics import confusion_matrix\n",
    "from sklearn.model_selection import GridSearchCV\n",
    "from sklearn.pipeline import Pipeline\n",
    "from sklearn.preprocessing import StandardScaler\n",
    "import seaborn as sns\n",
    "import pickle\n",
    "import warnings\n",
    "\n",
    "# Isso é para ignorar os warnings dizendo que a rede atingiu o numero maximo de iterações e não convergiu\n",
    "warnings.filterwarnings('ignore') "
   ]
  },
  {
   "cell_type": "code",
   "execution_count": 16,
   "metadata": {},
   "outputs": [],
   "source": [
    "# Carregando a base...\n",
    "df = pd.read_csv('../data/covtype.csv')\n",
    "df.head()\n",
    "\n",
    "# Separando os atributos preditores do atributo alvo\n",
    "x = df.drop(['Cover_Type'],axis = 1)\n",
    "y = df['Cover_Type']"
   ]
  },
  {
   "cell_type": "code",
   "execution_count": 17,
   "metadata": {},
   "outputs": [],
   "source": [
    "# Top 6 arquiteturas (3 próprias seguidas de 3 com regra da pirâmide)\n",
    "\n",
    "#   (hidden_layers, activation, solver, epochs, uses_cat, repetitions)\n",
    "top = [\n",
    "    (10, 'tanh', 'adam', 150, False, 10),\n",
    "    (10, 'tanh', 'adam', 200, False, 10),\n",
    "    (10, 'tanh', 'adam', 200, True, 5)\n",
    "]\n",
    "top_pyramid = [\n",
    "    ((13, 13), 'tanh', 'adam', 200, True, 5),\n",
    "    ((16, 10), 'tanh', 'adam', 200, True, 5),\n",
    "    ((26), 'tanh', 'adam', 200, True, 5)\n",
    "]"
   ]
  },
  {
   "cell_type": "code",
   "execution_count": 18,
   "metadata": {},
   "outputs": [],
   "source": [
    "# Função de apoio para interpretação dos dados salvos de métricas\n",
    "def load_top_metrics(path, n, array_acc, array_fsc, load_as_results = True):\n",
    "    f = open(path, \"rb\")\n",
    "    temp = pickle.load(f)\n",
    "    f.close()\n",
    "\n",
    "    if load_as_results:\n",
    "        for a,r,p,f in temp[:n]:\n",
    "            array_acc.append(np.mean(a))\n",
    "            array_fsc.append(np.mean(f))\n",
    "        return\n",
    "    \n",
    "    top_acc = np.argpartition(np.array(list(temp.values()))[:, 0], -n)[-n:]\n",
    "    top_fscr = np.argpartition(np.array(list(temp.values()))[:, 1], -n)[-n:]\n",
    "\n",
    "    top = np.array(list(temp.keys()))[top_fscr]\n",
    "\n",
    "    for c in top:\n",
    "        if not isinstance(c, int):\n",
    "            c = tuple(c)\n",
    "        array_acc.append(temp[c][0])\n",
    "        array_fsc.append(temp[c][1])\n",
    "\n",
    "    return top"
   ]
  },
  {
   "cell_type": "code",
   "execution_count": 19,
   "metadata": {
    "tags": []
   },
   "outputs": [],
   "source": [
    "# Carrega as métricas do top 6\n",
    "metrics_acc = []\n",
    "metrics_fsc = []\n",
    "pyramid_acc = []\n",
    "pyramid_fsc = []\n",
    "\n",
    "load_top_metrics(\"../metrics_3.3/metrics_dict.pkl\", 2, metrics_acc, metrics_fsc, load_as_results = False)\n",
    "load_top_metrics(\"../metrics_3.3/metrics_catg_dict.pkl\", 1, metrics_acc, metrics_fsc)\n",
    "load_top_metrics(\"../metrics_3.3/piramide_metrics_catg_dict.pkl\", 3, pyramid_acc, pyramid_fsc)"
   ]
  },
  {
   "cell_type": "code",
   "execution_count": 20,
   "metadata": {},
   "outputs": [
    {
     "output_type": "stream",
     "name": "stdout",
     "text": [
      "Top 3 arquiteturas próprias\n------------------------------------------------------------------------------------------------------\n(hidden_layers, activation, solver, epochs, usa categóricos, repetitions) -> F-Score, Acurácia (média)\n------------------------------------------------------------------------------------------------------\n(10, 'tanh', 'adam', 150, False, 10) -> 0.51 ; 0.72\n(10, 'tanh', 'adam', 200, False, 10) -> 0.53 ; 0.72\n(10, 'tanh', 'adam', 200, True, 5) -> 0.59 ; 0.77\n\n\nTop 3 arquiteturas com regra da pirâmide\n------------------------------------------------------------------------------------------------------\n(hidden_layers, activation, solver, epochs, usa categóricos, repetitions) -> F-Score, Acurácia (média)\n------------------------------------------------------------------------------------------------------\n((13, 13), 'tanh', 'adam', 200, True, 5) -> 0.68 ; 0.80\n((16, 10), 'tanh', 'adam', 200, True, 5) -> 0.68 ; 0.81\n(26, 'tanh', 'adam', 200, True, 5) -> 0.71 ; 0.82\n"
     ]
    }
   ],
   "source": [
    "print(\"Top 3 arquiteturas próprias\")\n",
    "print(\"------------------------------------------------------------------------------------------------------\")\n",
    "print(\"(hidden_layers, activation, solver, epochs, usa categóricos, repetitions) -> F-Score, Acurácia (média)\")\n",
    "print(\"------------------------------------------------------------------------------------------------------\")\n",
    "\n",
    "for c,f,a in zip(top, metrics_fsc, metrics_acc):\n",
    "    print(\"{} -> {:.2f} ; {:.2f}\".format(c, f, a))\n",
    "\n",
    "print(\"\\n\\nTop 3 arquiteturas com regra da pirâmide\")\n",
    "print(\"------------------------------------------------------------------------------------------------------\")\n",
    "print(\"(hidden_layers, activation, solver, epochs, usa categóricos, repetitions) -> F-Score, Acurácia (média)\")\n",
    "print(\"------------------------------------------------------------------------------------------------------\")\n",
    "\n",
    "for c,f,a in zip(top_pyramid, pyramid_fsc, pyramid_acc):\n",
    "    print(\"{} -> {:.2f} ; {:.2f}\".format(c, f, a))"
   ]
  },
  {
   "cell_type": "code",
   "execution_count": 23,
   "metadata": {},
   "outputs": [],
   "source": [
    "# Define os parâmetros do Grid Search\n",
    "\n",
    "searchers = []\n",
    "for layers, activ, solver, epochs, cat, reps in top + top_pyramid:\n",
    "    # Necessário para executar a padronização a cada parte do treinamento\n",
    "    pipeline = Pipeline([\n",
    "        ('scale', StandardScaler()),\n",
    "        ('clf', MLPClassifier(hidden_layer_sizes = layers, activation = activ))\n",
    "    ])\n",
    "    parameters = {\n",
    "        'solver': ('adam', 'sgd'),\n",
    "        'batch_size': ['auto'],\n",
    "        'learning_rate_init': [0.001, 0.01, 0.1, 1.0],\n",
    "        'n_iter_no_change': [10, 30, 50, 100], # paciência\n",
    "        'max_iter': [100, 150, 200, 250] # épocas\n",
    "    }\n",
    "    searchers.append(GridSearchCV(pipeline, parameters)) # validação 5-Fold é padrão"
   ]
  },
  {
   "cell_type": "markdown",
   "metadata": {},
   "source": [
    "## Identificando a mellhor solução\n",
    "\n",
    "Como resultado da busca em grande com validação cruzada 5-fold, identifique o modelo otimizado com melhor desempenho para o problema. Apresente claramente este modelo, seus parâmetros, hiperparâmetros otimizados e resultados para cada um dos folds avaliados. Esta é a melhor solução identificada em decorrência deste projeto"
   ]
  },
  {
   "cell_type": "code",
   "execution_count": null,
   "metadata": {},
   "outputs": [],
   "source": []
  },
  {
   "cell_type": "code",
   "execution_count": null,
   "metadata": {},
   "outputs": [],
   "source": []
  },
  {
   "cell_type": "markdown",
   "metadata": {},
   "source": [
    "## Empacotando a solução\n",
    "\n",
    "Suponha que você deve entregar este classificador ao órgão responsável por administrar o Roosevelt National Park. Para tanto, você deve fazer uma preparação do mesmo para utilização neste cenário. Uma vez que já identificou os melhores parâmetros e hiperparâmetros, o passo remanescente consiste em treinar o modelo com estes valores e todos os dados disponíveis, salvando o conjunto de pesos do modelo ao final para entrega ao cliente. Assim, finalize o projeto prático realizando tais passos.\n",
    "\n",
    "1. Consulte a documentação a seguir:\n",
    "https://scikit-learn.org/stable/modules/model_persistence.html\n",
    "2. Treine o modelo com todos os dados\n",
    "3. Salve o modelo em disco  \n",
    "4. Construa uma rotina que recupere o modelo em disco  \n",
    "5. Mostre que a rotina é funcional, fazendo previsões com todos os elementos do dataset e exibindo uma matriz de confusão das mesmas"
   ]
  }
 ],
 "metadata": {
  "kernelspec": {
   "display_name": "Python 3",
   "language": "python",
   "name": "python3"
  },
  "language_info": {
   "codemirror_mode": {
    "name": "ipython",
    "version": 3
   },
   "file_extension": ".py",
   "mimetype": "text/x-python",
   "name": "python",
   "nbconvert_exporter": "python",
   "pygments_lexer": "ipython3",
   "version": "3.7.0-final"
  }
 },
 "nbformat": 4,
 "nbformat_minor": 4
}